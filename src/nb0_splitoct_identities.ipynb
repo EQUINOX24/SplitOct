{
 "cells": [
  {
   "cell_type": "markdown",
   "id": "107c64a0-c004-4803-884e-306efb0c6991",
   "metadata": {},
   "source": [
    "<span style=\"color:green\">\n",
    "\n",
    "> # Split octonionic identities\n",
    "> In this notebook the use of SplitOct.py is demonstrated and some split octonionic identities are proved.\n",
    "\n",
    "</span>"
   ]
  },
  {
   "cell_type": "code",
   "execution_count": 1,
   "id": "89fbef08-d5c9-4072-b20c-9343d4f143d3",
   "metadata": {
    "tags": []
   },
   "outputs": [
    {
     "name": "stdout",
     "output_type": "stream",
     "text": [
      "python     : 3.11.3 (main, Jun  5 2023, 09:32:32) [GCC 13.1.1 20230429]\n",
      "sympy      : 1.12\n",
      "SplitOct   : 0.15\n",
      "numpy      : 1.24.3\n",
      "\n",
      "Selected Jupyter core packages...\n",
      "IPython          : 8.14.0\n",
      "ipykernel        : 6.23.3\n",
      "ipywidgets       : 8.0.6\n",
      "jupyter_client   : 8.3.0\n",
      "jupyter_core     : 5.3.1\n",
      "jupyter_server   : 2.7.0\n",
      "jupyterlab       : 4.0.2\n",
      "nbclient         : 0.8.0\n",
      "nbconvert        : 7.6.0\n",
      "nbformat         : 5.9.0\n",
      "notebook         : 6.5.4\n",
      "qtconsole        : not installed\n",
      "traitlets        : 5.9.0\n"
     ]
    }
   ],
   "source": [
    "import sympy as syp\n",
    "from IPython.display import Math as displayMath\n",
    "from SplitOct import *\n",
    "syp.init_printing(use_unicode=True)\n",
    "import numpy as np\n",
    "\n",
    "import sys\n",
    "print('python     :', sys.version)\n",
    "print('sympy      :', syp.__version__)\n",
    "print('SplitOct   :', version())\n",
    "print('numpy      :', np.__version__)\n",
    "print()\n",
    "!jupyter --version"
   ]
  },
  {
   "cell_type": "code",
   "execution_count": 2,
   "id": "669a3f0a-7c43-4755-95a2-d336c979cc9f",
   "metadata": {
    "tags": []
   },
   "outputs": [],
   "source": [
    "# useful functions and shortcuts\n",
    "dispmath = lambda x: display(displayMath(x))\n",
    "def tex(inputobj):\n",
    "    if type(inputobj) == SplitOctonion:\n",
    "        return inputobj.__repr__()\n",
    "    else:\n",
    "        return syp.latex(inputobj)"
   ]
  },
  {
   "cell_type": "code",
   "execution_count": 3,
   "id": "5231aae6-eb03-4bbf-9c49-de9260f37da2",
   "metadata": {
    "tags": []
   },
   "outputs": [
    {
     "data": {
      "text/latex": [
       "$\\displaystyle \\text{Split octonion algebra basis unit multiplication table:}$"
      ],
      "text/plain": [
       "<IPython.core.display.Math object>"
      ]
     },
     "metadata": {},
     "output_type": "display_data"
    },
    {
     "data": {
      "text/latex": [
       "$\\displaystyle \\begin{array}{c|cccccccc} & 1 & j_{1} & j_{2} & j_{3} & I & J_{1} & J_{2} & J_{3}\\\\ \\hline1 & 1 & j_{1} & j_{2} & j_{3} & I & J_{1} & J_{2} & J_{3}\\\\j_{1} & j_{1} & -1 & j_{3} & - j_{2} & J_{1} & - I & - J_{3} & J_{2}\\\\j_{2} & j_{2} & - j_{3} & -1 & j_{1} & J_{2} & J_{3} & - I & - J_{1}\\\\j_{3} & j_{3} & j_{2} & - j_{1} & -1 & J_{3} & - J_{2} & J_{1} & - I\\\\I & I & - J_{1} & - J_{2} & - J_{3} & 1 & - j_{1} & - j_{2} & - j_{3}\\\\J_{1} & J_{1} & I & - J_{3} & J_{2} & j_{1} & 1 & j_{3} & - j_{2}\\\\J_{2} & J_{2} & J_{3} & I & - J_{1} & j_{2} & - j_{3} & 1 & j_{1}\\\\J_{3} & J_{3} & - J_{2} & J_{1} & I & j_{3} & j_{2} & - j_{1} & 1\\\\\\end{array}$"
      ],
      "text/plain": [
       "<IPython.core.display.Math object>"
      ]
     },
     "metadata": {},
     "output_type": "display_data"
    }
   ],
   "source": [
    "dispmath(r'\\text{Split octonion algebra basis unit multiplication table:}')\n",
    "table = r'\\begin{array}{c|cccccccc}'\n",
    "for unit_2 in ounit:\n",
    "    table += r' & ' + tex(unit_2)\n",
    "table += r'\\\\ \\hline'\n",
    "for unit_1 in ounit:\n",
    "    table += tex(unit_1)\n",
    "    for unit_2 in ounit:\n",
    "        table += r' & ' + tex(unit_1*unit_2)\n",
    "    table += r'\\\\'\n",
    "table += r'\\end{array}'\n",
    "dispmath(table)"
   ]
  },
  {
   "cell_type": "code",
   "execution_count": 4,
   "id": "1b1729ae-4970-48b5-a0b4-83929d146755",
   "metadata": {},
   "outputs": [
    {
     "data": {
      "text/latex": [
       "$\\displaystyle \\text{Definitions and notation:}$"
      ],
      "text/plain": [
       "<IPython.core.display.Math object>"
      ]
     },
     "metadata": {},
     "output_type": "display_data"
    },
    {
     "data": {
      "text/latex": [
       "$\\displaystyle x,y,z\\in\\mathbb{O}^{\\prime}$"
      ],
      "text/plain": [
       "<IPython.core.display.Math object>"
      ]
     },
     "metadata": {},
     "output_type": "display_data"
    },
    {
     "data": {
      "text/latex": [
       "$\\displaystyle x = x_{0} + j_{1} x_{1} + j_{2} x_{2} + j_{3} x_{3} + I x_{4} + J_{1} x_{5} + J_{2} x_{6} + J_{3} x_{7}$"
      ],
      "text/plain": [
       "<IPython.core.display.Math object>"
      ]
     },
     "metadata": {},
     "output_type": "display_data"
    },
    {
     "data": {
      "text/latex": [
       "$\\displaystyle \\overline{x} = x_{0} - j_{1} x_{1} - j_{2} x_{2} - j_{3} x_{3} - I x_{4} - J_{1} x_{5} - J_{2} x_{6} - J_{3} x_{7}$"
      ],
      "text/plain": [
       "<IPython.core.display.Math object>"
      ]
     },
     "metadata": {},
     "output_type": "display_data"
    },
    {
     "data": {
      "text/latex": [
       "$\\displaystyle \\mathrm{Re}(x) = x_{0}$"
      ],
      "text/plain": [
       "<IPython.core.display.Math object>"
      ]
     },
     "metadata": {},
     "output_type": "display_data"
    },
    {
     "data": {
      "text/latex": [
       "$\\displaystyle \\begin{aligned} \\mathrm{Im}(x) =&\\thinspace \\mathbf{x}\\\\ =&\\thinspace j_{1} x_{1} + j_{2} x_{2} + j_{3} x_{3} + I x_{4} + J_{1} x_{5} + J_{2} x_{6} + J_{3} x_{7}\\end{aligned}$"
      ],
      "text/plain": [
       "<IPython.core.display.Math object>"
      ]
     },
     "metadata": {},
     "output_type": "display_data"
    },
    {
     "data": {
      "text/latex": [
       "$\\displaystyle x = x_0 + \\mathbf{x}$"
      ],
      "text/plain": [
       "<IPython.core.display.Math object>"
      ]
     },
     "metadata": {},
     "output_type": "display_data"
    }
   ],
   "source": [
    "dee_sym = 8*[None]\n",
    "x_sym = 8*[None]\n",
    "y_sym = 8*[None]\n",
    "z_sym = 8*[None]\n",
    "\n",
    "for n in range(8):\n",
    "    x_sym[n] = syp.symbols(f'x_{n}')\n",
    "    y_sym[n] = syp.symbols(f'y_{n}')\n",
    "    z_sym[n] = syp.symbols(f'z_{n}')\n",
    "\n",
    "x = SplitOctonion(x_sym)\n",
    "y = SplitOctonion(y_sym)\n",
    "z = SplitOctonion(z_sym)\n",
    "\n",
    "dispmath(r'\\text{Definitions and notation:}')\n",
    "dispmath(r'x,y,z\\in\\mathbb{O}^{\\prime}')\n",
    "\n",
    "dispmath( r'x = ' + tex(x) )\n",
    "dispmath( r'\\overline{x} = ' + tex(x.conj()) )\n",
    "\n",
    "dispmath( r'\\mathrm{Re}(x) = ' + tex(x.real()) )\n",
    "dispmath( r'\\begin{aligned} \\mathrm{Im}(x) =&\\thinspace \\mathbf{x}\\\\ =&\\thinspace ' + tex(x.imag()) + r'\\end{aligned}')\n",
    "dispmath( r'x = x_0 + \\mathbf{x}')"
   ]
  },
  {
   "cell_type": "code",
   "execution_count": 5,
   "id": "4ee7cc12-e644-457e-a6ab-3d9779276e49",
   "metadata": {},
   "outputs": [],
   "source": [
    "#dispmath(r'\\begin{aligned}\\mathcal{Q}(x) =& \\thinspace \\overline{x} x \\\\ =& \\thinspace ' + tex(Q(x)) + '\\end{aligned}')"
   ]
  },
  {
   "cell_type": "code",
   "execution_count": 6,
   "id": "9ab4be36-a826-487d-8e46-08fc4453cffb",
   "metadata": {
    "tags": []
   },
   "outputs": [
    {
     "data": {
      "text/latex": [
       "$\\displaystyle \\begin{aligned}x y =&x_{0} y_{0} - x_{1} y_{1} - x_{2} y_{2} - x_{3} y_{3} + x_{4} y_{4} + x_{5} y_{5} + x_{6} y_{6} + x_{7} y_{7} + j_{1} \\left(x_{0} y_{1} + x_{1} y_{0} + x_{2} y_{3} - x_{3} y_{2} - x_{4} y_{5} + x_{5} y_{4} + x_{6} y_{7} - x_{7} y_{6}\\right) + j_{2} \\left(x_{0} y_{2} - x_{1} y_{3} + x_{2} y_{0} + x_{3} y_{1} - x_{4} y_{6} - x_{5} y_{7} + x_{6} y_{4} + x_{7} y_{5}\\right) + j_{3} \\left(x_{0} y_{3} + x_{1} y_{2} - x_{2} y_{1} + x_{3} y_{0} - x_{4} y_{7} + x_{5} y_{6} - x_{6} y_{5} + x_{7} y_{4}\\right) + I \\left(x_{0} y_{4} - x_{1} y_{5} - x_{2} y_{6} - x_{3} y_{7} + x_{4} y_{0} + x_{5} y_{1} + x_{6} y_{2} + x_{7} y_{3}\\right) + J_{1} \\left(x_{0} y_{5} + x_{1} y_{4} - x_{2} y_{7} + x_{3} y_{6} - x_{4} y_{1} + x_{5} y_{0} - x_{6} y_{3} + x_{7} y_{2}\\right) + J_{2} \\left(x_{0} y_{6} + x_{1} y_{7} + x_{2} y_{4} - x_{3} y_{5} - x_{4} y_{2} + x_{5} y_{3} + x_{6} y_{0} - x_{7} y_{1}\\right) + J_{3} \\left(x_{0} y_{7} - x_{1} y_{6} + x_{2} y_{5} + x_{3} y_{4} - x_{4} y_{3} - x_{5} y_{2} + x_{6} y_{1} + x_{7} y_{0}\\right)\\end{aligned}$"
      ],
      "text/plain": [
       "<IPython.core.display.Math object>"
      ]
     },
     "metadata": {},
     "output_type": "display_data"
    }
   ],
   "source": [
    "dispmath(r'\\begin{aligned}x y =&' + tex(x*y) + '\\end{aligned}')"
   ]
  },
  {
   "cell_type": "code",
   "execution_count": 7,
   "id": "d8323e3d-ba3f-4bd0-a7db-4008efd9d61a",
   "metadata": {
    "tags": []
   },
   "outputs": [
    {
     "data": {
      "text/latex": [
       "$\\displaystyle \\text{Map } \\mathcal{Q}:\\mathbb{O}^{\\prime} \\rightarrow \\mathbb{R} \\text{ is a diagonal quadratic form}$"
      ],
      "text/plain": [
       "<IPython.core.display.Math object>"
      ]
     },
     "metadata": {},
     "output_type": "display_data"
    },
    {
     "data": {
      "text/latex": [
       "$\\displaystyle \\begin{aligned}\\mathcal{Q}(x) =& \\thinspace \\overline{x} x \\\\ =& \\thinspace x_{0}^{2} + x_{1}^{2} + x_{2}^{2} + x_{3}^{2} - x_{4}^{2} - x_{5}^{2} - x_{6}^{2} - x_{7}^{2}\\end{aligned}$"
      ],
      "text/plain": [
       "<IPython.core.display.Math object>"
      ]
     },
     "metadata": {},
     "output_type": "display_data"
    }
   ],
   "source": [
    "def Q(x):\n",
    "    assert type(x) == SplitOctonion\n",
    "    return (x.conj()*x).real()\n",
    "dispmath(r'\\text{Map } \\mathcal{Q}:\\mathbb{O}^{\\prime} \\rightarrow \\mathbb{R} \\text{ is a diagonal quadratic form}')\n",
    "dispmath(r'\\begin{aligned}\\mathcal{Q}(x) =& \\thinspace \\overline{x} x \\\\ =& \\thinspace ' + tex(Q(x)) + '\\end{aligned}')"
   ]
  },
  {
   "cell_type": "code",
   "execution_count": 8,
   "id": "55e0291d-d502-4822-a8fe-450e93c8a25d",
   "metadata": {
    "tags": []
   },
   "outputs": [
    {
     "data": {
      "text/latex": [
       "$\\displaystyle \\text{Commutativity does not hold: } x y \\neq y x$"
      ],
      "text/plain": [
       "<IPython.core.display.Math object>"
      ]
     },
     "metadata": {},
     "output_type": "display_data"
    },
    {
     "data": {
      "text/latex": [
       "$\\displaystyle \\text{Associativity does not hold: } x (y z) \\neq (x y) z$"
      ],
      "text/plain": [
       "<IPython.core.display.Math object>"
      ]
     },
     "metadata": {},
     "output_type": "display_data"
    },
    {
     "name": "stdout",
     "output_type": "stream",
     "text": [
      "\n"
     ]
    },
    {
     "data": {
      "text/latex": [
       "$\\displaystyle \\text{Left alternativity holds: } x (x y) = (x x) y$"
      ],
      "text/plain": [
       "<IPython.core.display.Math object>"
      ]
     },
     "metadata": {},
     "output_type": "display_data"
    },
    {
     "data": {
      "text/latex": [
       "$\\displaystyle \\text{Right alternativity holds: } x (y y) = (x y) y$"
      ],
      "text/plain": [
       "<IPython.core.display.Math object>"
      ]
     },
     "metadata": {},
     "output_type": "display_data"
    },
    {
     "data": {
      "text/latex": [
       "$\\displaystyle \\text{Flexibility holds: } x (y x) = (x y) x$"
      ],
      "text/plain": [
       "<IPython.core.display.Math object>"
      ]
     },
     "metadata": {},
     "output_type": "display_data"
    },
    {
     "name": "stdout",
     "output_type": "stream",
     "text": [
      "\n"
     ]
    },
    {
     "data": {
      "text/latex": [
       "$\\displaystyle \\text{Left alternativity holds for conjugates: } x (\\overline{x} y) = (x \\overline{x}) y$"
      ],
      "text/plain": [
       "<IPython.core.display.Math object>"
      ]
     },
     "metadata": {},
     "output_type": "display_data"
    },
    {
     "data": {
      "text/latex": [
       "$\\displaystyle \\text{Right alternativity holds for conjugates: } x (y \\overline{y}) = (x y) \\overline{y}$"
      ],
      "text/plain": [
       "<IPython.core.display.Math object>"
      ]
     },
     "metadata": {},
     "output_type": "display_data"
    },
    {
     "data": {
      "text/latex": [
       "$\\displaystyle \\text{Flexibility holds for conjugates: } x (y \\overline{x}) = (x y) \\overline{x}$"
      ],
      "text/plain": [
       "<IPython.core.display.Math object>"
      ]
     },
     "metadata": {},
     "output_type": "display_data"
    }
   ],
   "source": [
    "if x*y - y*x == 0:\n",
    "    dispmath(r'\\text{Commutativity holds: } x y = y x')\n",
    "else:\n",
    "    dispmath(r'\\text{Commutativity does not hold: } x y \\neq y x')\n",
    "\n",
    "if x*(y*z) - (x*y)*z == 0:\n",
    "    dispmath(r'\\text{Associativity holds: }x (y z) = (x y) z')\n",
    "else:\n",
    "    dispmath(r'\\text{Associativity does not hold: } x (y z) \\neq (x y) z')\n",
    "print()\n",
    "#______________________________________________________________________________________________\n",
    "if x*(x*y) - (x*x)*y == 0:\n",
    "    dispmath(r'\\text{Left alternativity holds: } x (x y) = (x x) y')\n",
    "else:\n",
    "    dispmath(r'\\text{Left alternativity does not hold: } x (x y) \\neq (x x) y')\n",
    "\n",
    "if x*(y*y) - (x*y)*y == 0:\n",
    "    dispmath(r'\\text{Right alternativity holds: } x (y y) = (x y) y')\n",
    "else:\n",
    "    dispmath(r'\\text{Right alternativity does not hold: } x (y y) \\neq (x y) y')\n",
    "\n",
    "if x*(y*x) - (x*y)*x == 0:\n",
    "    dispmath(r'\\text{Flexibility holds: } x (y x) = (x y) x')\n",
    "else:\n",
    "    dispmath(r'\\text{Flexibility does not hold: } x (y x) \\neq (x y) x')\n",
    "print()\n",
    "#______________________________________________________________________________________________\n",
    "if x*(x.conj()*y) - (x*x.conj())*y == 0:\n",
    "    dispmath(r'\\text{Left alternativity holds for conjugates: } x (\\overline{x} y) = (x \\overline{x}) y')\n",
    "else:\n",
    "    dispmath(r'\\text{Left alternativity does not hold for conjugates: } x (\\overline{x} y) \\neq (x \\overline{x}) y')\n",
    "\n",
    "if x*(y*y.conj()) - (x*y)*y.conj() == 0:\n",
    "    dispmath(r'\\text{Right alternativity holds for conjugates: } x (y \\overline{y}) = (x y) \\overline{y}')\n",
    "else:\n",
    "    dispmath(r'\\text{Right alternativity does not hold for conjugates: } x (y \\overline{y}) \\neq (x y) \\overline{y}')\n",
    "\n",
    "if x*(y*x.conj()) - (x*y)*x.conj() == 0:\n",
    "    dispmath(r'\\text{Flexibility holds for conjugates: } x (y \\overline{x}) = (x y) \\overline{x}')\n",
    "else:\n",
    "    dispmath(r'\\text{Flexibility does not hold for conjugates: } x (y \\overline{x}) \\neq (x y) \\overline{x}')"
   ]
  },
  {
   "cell_type": "code",
   "execution_count": 9,
   "id": "c9df0c33-ef20-4a77-9d36-beff0917c50a",
   "metadata": {
    "tags": []
   },
   "outputs": [
    {
     "data": {
      "text/latex": [
       "$\\displaystyle \\overline{xy} = \\overline{y} \\thinspace \\overline{x}$"
      ],
      "text/plain": [
       "<IPython.core.display.Math object>"
      ]
     },
     "metadata": {},
     "output_type": "display_data"
    }
   ],
   "source": [
    "if (x*y).conj() - y.conj()*x.conj() == 0:\n",
    "    dispmath(r'\\overline{xy} = \\overline{y} \\thinspace \\overline{x}')\n",
    "else:\n",
    "    dispmath(r'\\overline{xy} \\neq \\overline{y} \\thinspace \\overline{x}')"
   ]
  },
  {
   "cell_type": "markdown",
   "id": "c36a83af-544d-4b1f-ba42-f009e4986851",
   "metadata": {},
   "source": [
    "<span style=\"color:green\">\n",
    "\n",
    "__________________________________________________________\n",
    "\n",
    "> Below we prove that\n",
    "\n",
    "\\begin{equation} \\mathrm{conj}_{u}(x) = u^2 \\left(u \\overline{x} u \\right) \\end{equation}\n",
    "\n",
    ">where $ u \\neq 1 $ is a basis unit.\n",
    "\n",
    "</span>"
   ]
  },
  {
   "cell_type": "code",
   "execution_count": 10,
   "id": "a8d54007-d6e9-4921-b59e-f19fcd58b7c3",
   "metadata": {
    "tags": []
   },
   "outputs": [
    {
     "data": {
      "text/latex": [
       "$\\displaystyle 1^2 \\left(1\\thinspace \\overline{x} \\thinspace 1\\right) =x_{0} - j_{1} x_{1} - j_{2} x_{2} - j_{3} x_{3} - I x_{4} - J_{1} x_{5} - J_{2} x_{6} - J_{3} x_{7}$"
      ],
      "text/plain": [
       "<IPython.core.display.Math object>"
      ]
     },
     "metadata": {},
     "output_type": "display_data"
    },
    {
     "data": {
      "text/latex": [
       "$\\displaystyle j_{1}^2 \\left(j_{1}\\thinspace \\overline{x} \\thinspace j_{1}\\right) =x_{0} - j_{1} x_{1} + j_{2} x_{2} + j_{3} x_{3} + I x_{4} + J_{1} x_{5} + J_{2} x_{6} + J_{3} x_{7}$"
      ],
      "text/plain": [
       "<IPython.core.display.Math object>"
      ]
     },
     "metadata": {},
     "output_type": "display_data"
    },
    {
     "data": {
      "text/latex": [
       "$\\displaystyle j_{2}^2 \\left(j_{2}\\thinspace \\overline{x} \\thinspace j_{2}\\right) =x_{0} + j_{1} x_{1} - j_{2} x_{2} + j_{3} x_{3} + I x_{4} + J_{1} x_{5} + J_{2} x_{6} + J_{3} x_{7}$"
      ],
      "text/plain": [
       "<IPython.core.display.Math object>"
      ]
     },
     "metadata": {},
     "output_type": "display_data"
    },
    {
     "data": {
      "text/latex": [
       "$\\displaystyle j_{3}^2 \\left(j_{3}\\thinspace \\overline{x} \\thinspace j_{3}\\right) =x_{0} + j_{1} x_{1} + j_{2} x_{2} - j_{3} x_{3} + I x_{4} + J_{1} x_{5} + J_{2} x_{6} + J_{3} x_{7}$"
      ],
      "text/plain": [
       "<IPython.core.display.Math object>"
      ]
     },
     "metadata": {},
     "output_type": "display_data"
    },
    {
     "data": {
      "text/latex": [
       "$\\displaystyle I^2 \\left(I\\thinspace \\overline{x} \\thinspace I\\right) =x_{0} + j_{1} x_{1} + j_{2} x_{2} + j_{3} x_{3} - I x_{4} + J_{1} x_{5} + J_{2} x_{6} + J_{3} x_{7}$"
      ],
      "text/plain": [
       "<IPython.core.display.Math object>"
      ]
     },
     "metadata": {},
     "output_type": "display_data"
    },
    {
     "data": {
      "text/latex": [
       "$\\displaystyle J_{1}^2 \\left(J_{1}\\thinspace \\overline{x} \\thinspace J_{1}\\right) =x_{0} + j_{1} x_{1} + j_{2} x_{2} + j_{3} x_{3} + I x_{4} - J_{1} x_{5} + J_{2} x_{6} + J_{3} x_{7}$"
      ],
      "text/plain": [
       "<IPython.core.display.Math object>"
      ]
     },
     "metadata": {},
     "output_type": "display_data"
    },
    {
     "data": {
      "text/latex": [
       "$\\displaystyle J_{2}^2 \\left(J_{2}\\thinspace \\overline{x} \\thinspace J_{2}\\right) =x_{0} + j_{1} x_{1} + j_{2} x_{2} + j_{3} x_{3} + I x_{4} + J_{1} x_{5} - J_{2} x_{6} + J_{3} x_{7}$"
      ],
      "text/plain": [
       "<IPython.core.display.Math object>"
      ]
     },
     "metadata": {},
     "output_type": "display_data"
    },
    {
     "data": {
      "text/latex": [
       "$\\displaystyle J_{3}^2 \\left(J_{3}\\thinspace \\overline{x} \\thinspace J_{3}\\right) =x_{0} + j_{1} x_{1} + j_{2} x_{2} + j_{3} x_{3} + I x_{4} + J_{1} x_{5} + J_{2} x_{6} - J_{3} x_{7}$"
      ],
      "text/plain": [
       "<IPython.core.display.Math object>"
      ]
     },
     "metadata": {},
     "output_type": "display_data"
    }
   ],
   "source": [
    "for unit in ounit:\n",
    "    texunit = tex(unit)\n",
    "    dispmath(texunit + r'^2 \\left(' + texunit + r'\\thinspace \\overline{x} \\thinspace ' + texunit + r'\\right) ='\n",
    "            + tex( (unit*unit) * (unit * x.conj() * unit)))"
   ]
  },
  {
   "cell_type": "code",
   "execution_count": 11,
   "id": "7fbf59c8-f34d-4bab-aa29-d37ee3560bd7",
   "metadata": {
    "tags": []
   },
   "outputs": [
    {
     "data": {
      "text/latex": [
       "$\\displaystyle \\text{Definition of nondegenerate symmetric bilinear form in terms of quadratic form } \\mathcal{Q} \\text{:}$"
      ],
      "text/plain": [
       "<IPython.core.display.Math object>"
      ]
     },
     "metadata": {},
     "output_type": "display_data"
    },
    {
     "data": {
      "text/latex": [
       "$\\displaystyle \\begin{aligned} \\left\\langle x,y \\right\\rangle =& \\thinspace  \\frac{1}{2} \\mathcal{Q}(x + y) - \\frac{1}{2}\\mathcal{Q}(x) - \\frac{1}{2}\\mathcal{Q}(y)\\\\=& \\thinspace x_{0} y_{0} + x_{1} y_{1} + x_{2} y_{2} + x_{3} y_{3} - x_{4} y_{4} - x_{5} y_{5} - x_{6} y_{6} - x_{7} y_{7}\\end{aligned}$"
      ],
      "text/plain": [
       "<IPython.core.display.Math object>"
      ]
     },
     "metadata": {},
     "output_type": "display_data"
    },
    {
     "data": {
      "text/latex": [
       "$\\displaystyle \\text{Identity involving the bilinear form:}$"
      ],
      "text/plain": [
       "<IPython.core.display.Math object>"
      ]
     },
     "metadata": {},
     "output_type": "display_data"
    },
    {
     "data": {
      "text/latex": [
       "$\\displaystyle \\left\\langle x,y \\right\\rangle = \\mathrm{Re}\\left(x \\overline{y}\\right)= \\frac{1}{2}\\left( x\\overline{y} + y\\overline{x} \\right)$"
      ],
      "text/plain": [
       "<IPython.core.display.Math object>"
      ]
     },
     "metadata": {},
     "output_type": "display_data"
    }
   ],
   "source": [
    "dispmath(r'\\text{Definition of nondegenerate symmetric bilinear form in terms of quadratic form } \\mathcal{Q} \\text{:}')\n",
    "bilinform = syp.simplify(syp.Rational(1,2) * ( Q(x + y) - Q(x) - Q(y) ))\n",
    "# is same as bilinform = x.dot(y)\n",
    "dispmath(r'\\begin{aligned} \\left\\langle x,y \\right\\rangle =& \\thinspace ' \n",
    "        + r' \\frac{1}{2} \\mathcal{Q}(x + y) - \\frac{1}{2}\\mathcal{Q}(x) - \\frac{1}{2}\\mathcal{Q}(y)\\\\'\n",
    "        + r'=& \\thinspace '  +tex(bilinform) + r'\\end{aligned}')\n",
    "\n",
    "dispmath(r'\\text{Identity involving the bilinear form:}')\n",
    "rexyconj = (x*y.conj()).real()\n",
    "if bilinform == rexyconj:\n",
    "    dispmath(r'\\left\\langle x,y \\right\\rangle = \\mathrm{Re}\\left(x \\overline{y}\\right)'\n",
    "             +r'= \\frac{1}{2}\\left( x\\overline{y} + y\\overline{x} \\right)')\n",
    "else:\n",
    "    dispmath(r'\\left\\langle x,y \\right\\rangle \\neq \\mathrm{Re}\\left(x \\overline{y}\\right)'\n",
    "             +r'= \\frac{1}{2}\\left( x\\overline{y} + y\\overline{x} \\right)')"
   ]
  },
  {
   "cell_type": "code",
   "execution_count": 12,
   "id": "d47c6678-ade6-474b-aeb4-602157f3446d",
   "metadata": {
    "tags": []
   },
   "outputs": [
    {
     "data": {
      "text/latex": [
       "$\\displaystyle \\text{Identities involving real and imaginary split octonions:}$"
      ],
      "text/plain": [
       "<IPython.core.display.Math object>"
      ]
     },
     "metadata": {},
     "output_type": "display_data"
    },
    {
     "data": {
      "text/latex": [
       "$\\displaystyle \\mathbf{x}\\mathbf{y}+\\mathbf{y}\\mathbf{x}=-2\\mathrm{Re}\\left(\\mathbf{x}\\mathbf{y}\\right)=-2\\left\\langle \\mathbf{x},\\mathbf{y}\\right\\rangle  $"
      ],
      "text/plain": [
       "<IPython.core.display.Math object>"
      ]
     },
     "metadata": {},
     "output_type": "display_data"
    },
    {
     "data": {
      "text/latex": [
       "$\\displaystyle \\mathbf{x}\\mathbf{y}-\\mathbf{y}\\mathbf{x}=2\\thinspace\\mathrm{Im}\\left(\\mathbf{x}\\mathbf{y}\\right)$"
      ],
      "text/plain": [
       "<IPython.core.display.Math object>"
      ]
     },
     "metadata": {},
     "output_type": "display_data"
    },
    {
     "data": {
      "text/latex": [
       "$\\displaystyle \\left\\langle xy,z\\right\\rangle +\\left\\langle y,xz\\right\\rangle =2\\mathrm{Re}\\left(x\\right)\\left\\langle y,z\\right\\rangle $"
      ],
      "text/plain": [
       "<IPython.core.display.Math object>"
      ]
     },
     "metadata": {},
     "output_type": "display_data"
    }
   ],
   "source": [
    "dispmath(r'\\text{Identities involving real and imaginary split octonions:}')\n",
    "if (x.imag()*y.imag() + y.imag()*x.imag()) == - 2*x.imag().dot(y.imag()):\n",
    "    dispmath(r'\\mathbf{x}\\mathbf{y}+\\mathbf{y}\\mathbf{x}=-2\\mathrm{Re}\\left(\\mathbf{x}\\mathbf{y}\\right)=-2\\left\\langle \\mathbf{x},\\mathbf{y}\\right\\rangle  ')\n",
    "else:\n",
    "    dispmath(r'\\mathbf{x}\\mathbf{y}+\\mathbf{y}\\mathbf{x}=-2\\mathrm{Re}\\left(\\mathbf{x}\\mathbf{y}\\right)\\neq -2\\left\\langle \\mathbf{x},\\mathbf{y}\\right\\rangle  ')\n",
    "\n",
    "if (x.imag()*y.imag() - y.imag()*x.imag()) == 2*(x.imag()*y.imag()).imag():\n",
    "    dispmath(r'\\mathbf{x}\\mathbf{y}-\\mathbf{y}\\mathbf{x}=2\\thinspace\\mathrm{Im}\\left(\\mathbf{x}\\mathbf{y}\\right)')\n",
    "else:\n",
    "    dispmath(r'\\mathbf{x}\\mathbf{y}-\\mathbf{y}\\mathbf{x}\\neq 2\\thinspace\\mathrm{Im}\\left(\\mathbf{x}\\mathbf{y}\\right)')\n",
    "    \n",
    "if syp.expand((x*y).dot(z) + y.dot(x*z)) == syp.expand(2*x.real()*y.dot(z)):\n",
    "    dispmath(r'\\left\\langle xy,z\\right\\rangle +\\left\\langle y,xz\\right\\rangle =2\\mathrm{Re}\\left(x\\right)\\left\\langle y,z\\right\\rangle ')\n",
    "else:\n",
    "    dispmath(r'\\left\\langle xy,z\\right\\rangle +\\left\\langle y,xz\\right\\rangle \\neq2\\mathrm{Re}\\left(x\\right)\\left\\langle y,z\\right\\rangle ')"
   ]
  },
  {
   "cell_type": "code",
   "execution_count": 13,
   "id": "85b27ac8-4d79-493b-a22d-637b1e63d767",
   "metadata": {},
   "outputs": [
    {
     "data": {
      "text/latex": [
       "$\\displaystyle \\mathrm{footprint}:\\mathrm{basis} \\left( \\mathbb{O}^{\\prime} \\right) \\rightarrow \\mathbb{Z}$"
      ],
      "text/plain": [
       "<IPython.core.display.Math object>"
      ]
     },
     "metadata": {},
     "output_type": "display_data"
    },
    {
     "data": {
      "text/latex": [
       "$\\displaystyle 1 \\mapsto 0$"
      ],
      "text/plain": [
       "<IPython.core.display.Math object>"
      ]
     },
     "metadata": {},
     "output_type": "display_data"
    },
    {
     "data": {
      "text/latex": [
       "$\\displaystyle j_{1} \\mapsto 2$"
      ],
      "text/plain": [
       "<IPython.core.display.Math object>"
      ]
     },
     "metadata": {},
     "output_type": "display_data"
    },
    {
     "data": {
      "text/latex": [
       "$\\displaystyle j_{2} \\mapsto 2$"
      ],
      "text/plain": [
       "<IPython.core.display.Math object>"
      ]
     },
     "metadata": {},
     "output_type": "display_data"
    },
    {
     "data": {
      "text/latex": [
       "$\\displaystyle j_{3} \\mapsto 2$"
      ],
      "text/plain": [
       "<IPython.core.display.Math object>"
      ]
     },
     "metadata": {},
     "output_type": "display_data"
    },
    {
     "data": {
      "text/latex": [
       "$\\displaystyle I \\mapsto -2$"
      ],
      "text/plain": [
       "<IPython.core.display.Math object>"
      ]
     },
     "metadata": {},
     "output_type": "display_data"
    },
    {
     "data": {
      "text/latex": [
       "$\\displaystyle J_{1} \\mapsto -2$"
      ],
      "text/plain": [
       "<IPython.core.display.Math object>"
      ]
     },
     "metadata": {},
     "output_type": "display_data"
    },
    {
     "data": {
      "text/latex": [
       "$\\displaystyle J_{2} \\mapsto -2$"
      ],
      "text/plain": [
       "<IPython.core.display.Math object>"
      ]
     },
     "metadata": {},
     "output_type": "display_data"
    },
    {
     "data": {
      "text/latex": [
       "$\\displaystyle J_{3} \\mapsto -2$"
      ],
      "text/plain": [
       "<IPython.core.display.Math object>"
      ]
     },
     "metadata": {},
     "output_type": "display_data"
    }
   ],
   "source": [
    "# dispmath(' \\mathrm{footprint} \\mathrm{basis}\\left(\\mathbb{O}^{\\prime}\\right)\\rightarrow \\mathbb{Z} ')\n",
    "dispmath(r'\\mathrm{footprint}:\\mathrm{basis} \\left( \\mathbb{O}^{\\prime} \\right) \\rightarrow \\mathbb{Z}')\n",
    "for u in ounit:\n",
    "    u_footprint = u * u.conj() - u * u\n",
    "    dispmath(tex(u) + ' \\mapsto ' + tex(u_footprint))"
   ]
  }
 ],
 "metadata": {
  "kernelspec": {
   "display_name": "Python 3 (ipykernel)",
   "language": "python",
   "name": "python3"
  },
  "language_info": {
   "codemirror_mode": {
    "name": "ipython",
    "version": 3
   },
   "file_extension": ".py",
   "mimetype": "text/x-python",
   "name": "python",
   "nbconvert_exporter": "python",
   "pygments_lexer": "ipython3",
   "version": "3.11.3"
  }
 },
 "nbformat": 4,
 "nbformat_minor": 5
}
