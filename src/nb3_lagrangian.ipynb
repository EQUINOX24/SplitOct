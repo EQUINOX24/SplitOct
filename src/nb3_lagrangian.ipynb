{
 "cells": [
  {
   "cell_type": "markdown",
   "id": "36254be9-7c94-411d-bade-3d63e0107278",
   "metadata": {},
   "source": [
    "# Split octonionic Lagrangian\n",
    "\n",
    "Here we demonstrate that\n",
    "\n",
    "\\begin{equation} \\begin{array}{ccc}\n",
    "\\mathcal{L}=\\frac{1}{2}\\left\\langle J_{3}\\psi,\\partial\\psi\\right\\rangle  & \\overset{\\delta\\int\\mathcal{L}}{\\longrightarrow} & \\left(\\partial-\\frac{1}{2}J_{3}\\partial_{7}\\right)\\psi=0\\end{array} \\end{equation}\n",
    "\n",
    "where $\\delta \\int \\mathcal{L}$ stands for stationarization procedure of corresponding action. This also implies that if we replace $ \\partial $ with\n",
    "\n",
    "\\begin{equation} \\begin{aligned}D & =I\\partial I\\\\\n",
    " & =\\frac{1}{2}\\left(\\partial_{0}+I\\partial_{4}\\right)-\\frac{1}{2}\\sum_{n=1}^{3}\\left(j_{n}\\partial_{n}+J_{n}\\partial_{4+n}\\right)\n",
    "\\end{aligned}\n",
    " \\end{equation}\n",
    " \n",
    "then\n",
    "\n",
    "\\begin{equation} \\begin{array}{ccc}\n",
    "\\mathcal{L}=\\frac{1}{2}\\left\\langle J_{3}\\psi,D\\psi\\right\\rangle  & \\overset{\\delta\\int\\mathcal{L}}{\\longrightarrow} & \\left(D+\\frac{1}{2}J_{3}\\partial_{7}\\right)\\psi=0\\end{array} \\end{equation}"
   ]
  },
  {
   "cell_type": "code",
   "execution_count": 1,
   "id": "50a4414c-2774-4f3b-a27c-107c91d09bd5",
   "metadata": {
    "tags": []
   },
   "outputs": [
    {
     "name": "stdout",
     "output_type": "stream",
     "text": [
      "python     : 3.10.10 (main, Mar  5 2023, 22:26:53) [GCC 12.2.1 20230201]\n",
      "sympy      : 1.9\n",
      "SplitOct   : 0.12\n",
      "\n",
      "Selected Jupyter core packages...\n",
      "IPython          : 8.11.0\n",
      "ipykernel        : 6.21.3\n",
      "ipywidgets       : 8.0.4\n",
      "jupyter_client   : 8.0.3\n",
      "jupyter_core     : 5.2.0\n",
      "jupyter_server   : 2.4.0\n",
      "jupyterlab       : 3.6.1\n",
      "nbclient         : 0.7.2\n",
      "nbconvert        : 7.2.10\n",
      "nbformat         : 5.7.3\n",
      "notebook         : 6.5.3\n",
      "qtconsole        : not installed\n",
      "traitlets        : 5.9.0\n"
     ]
    }
   ],
   "source": [
    "import sympy as syp\n",
    "from IPython.display import Math as displayMath\n",
    "from SplitOct import *\n",
    "syp.init_printing(use_unicode=True)\n",
    "from copy import copy\n",
    "# import numpy as np\n",
    "\n",
    "import sys\n",
    "print('python     :', sys.version)\n",
    "print('sympy      :', syp.__version__)\n",
    "print('SplitOct   :', version())\n",
    "# print('numpy      :', np.__version__)\n",
    "print()\n",
    "!jupyter --version"
   ]
  },
  {
   "cell_type": "code",
   "execution_count": 2,
   "id": "0a389992-90d7-4242-bfd4-b15f6ddf0232",
   "metadata": {
    "tags": []
   },
   "outputs": [],
   "source": [
    "dispmath = lambda x: display(displayMath(x))\n",
    "def tex(inputobj):\n",
    "    if type(inputobj) == SplitOctonion:\n",
    "        return inputobj.__repr__()\n",
    "    else:\n",
    "        return syp.latex(inputobj)\n",
    "i = syp.I\n",
    "\n",
    "def prod(x):\n",
    "    y = 1\n",
    "    for x_n in x:\n",
    "        y = y * x_n\n",
    "    return y"
   ]
  },
  {
   "cell_type": "code",
   "execution_count": 3,
   "id": "90cc45a6",
   "metadata": {
    "tags": []
   },
   "outputs": [
    {
     "data": {
      "text/latex": [
       "$\\displaystyle \\psi=\\psi_{0} + j_{1} \\psi_{1} + j_{2} \\psi_{2} + j_{3} \\psi_{3} + I \\psi_{4} + J_{1} \\psi_{5} + J_{2} \\psi_{6} + J_{3} \\psi_{7}$"
      ],
      "text/plain": [
       "<IPython.core.display.Math object>"
      ]
     },
     "metadata": {},
     "output_type": "display_data"
    },
    {
     "data": {
      "text/latex": [
       "$\\displaystyle \\partial=\\frac{1}{2}\\left(\\partial_{0} + j_{1} \\partial_{1} + j_{2} \\partial_{2} + j_{3} \\partial_{3} + I \\partial_{4} + J_{1} \\partial_{5} + J_{2} \\partial_{6} + J_{3} \\partial_{7}\\right)$"
      ],
      "text/plain": [
       "<IPython.core.display.Math object>"
      ]
     },
     "metadata": {},
     "output_type": "display_data"
    },
    {
     "data": {
      "text/latex": [
       "$\\displaystyle \\eta=\\eta_{0} + j_{1} \\eta_{1} + j_{2} \\eta_{2} + j_{3} \\eta_{3} + I \\eta_{4} + J_{1} \\eta_{5} + J_{2} \\eta_{6} + J_{3} \\eta_{7}$"
      ],
      "text/plain": [
       "<IPython.core.display.Math object>"
      ]
     },
     "metadata": {},
     "output_type": "display_data"
    }
   ],
   "source": [
    "m_mass = syp.symbols('m', commutative=True, real=True)\n",
    "ε = syp.symbols('varepsilon', commutative=True, real=True)\n",
    "dee_sym = 8*[None]\n",
    "ψ_sym = 8*[None]\n",
    "η_sym = 8*[None]\n",
    "\n",
    "for n in range(8):\n",
    "    dee_sym[n] = syp.symbols(f'\\partial_{n}', commutative=False)\n",
    "    η_sym[n] = syp.symbols(f'eta_{n}', commutative=False)\n",
    "    ψ_sym[n] = syp.symbols(f'psi_{n}', commutative=False)\n",
    "    \n",
    "ψ = SplitOctonion(ψ_sym)\n",
    "η = SplitOctonion(η_sym)\n",
    "dee = syp.Rational(1/2)*SplitOctonion(dee_sym)\n",
    "# dee = (oI*dee*oI)\n",
    "\n",
    "dispmath(r'\\psi=' + tex(ψ))\n",
    "dispmath(r'\\partial=\\frac{1}{2}\\left(' + tex(2*dee) + r'\\right)')\n",
    "dispmath(r'\\eta=' + tex(η))"
   ]
  },
  {
   "cell_type": "code",
   "execution_count": 4,
   "id": "e9505fb7-2002-4d10-a597-6ba77dde7c48",
   "metadata": {
    "tags": []
   },
   "outputs": [
    {
     "data": {
      "text/latex": [
       "$\\displaystyle \\begin{aligned}(\\partial - \\frac{1}{2}J_3 \\partial_7) \\psi=&\\frac{1}{2}\\left(\\partial_{0} \\psi_{0} - \\partial_{1} \\psi_{1} - \\partial_{2} \\psi_{2} - \\partial_{3} \\psi_{3} + \\partial_{4} \\psi_{4} + \\partial_{5} \\psi_{5} + \\partial_{6} \\psi_{6} + j_{1} \\left(\\partial_{0} \\psi_{1} + \\partial_{1} \\psi_{0} + \\partial_{2} \\psi_{3} - \\partial_{3} \\psi_{2} - \\partial_{4} \\psi_{5} + \\partial_{5} \\psi_{4} + \\partial_{6} \\psi_{7}\\right) + j_{2} \\left(\\partial_{0} \\psi_{2} - \\partial_{1} \\psi_{3} + \\partial_{2} \\psi_{0} + \\partial_{3} \\psi_{1} - \\partial_{4} \\psi_{6} - \\partial_{5} \\psi_{7} + \\partial_{6} \\psi_{4}\\right) + j_{3} \\left(\\partial_{0} \\psi_{3} + \\partial_{1} \\psi_{2} - \\partial_{2} \\psi_{1} + \\partial_{3} \\psi_{0} - \\partial_{4} \\psi_{7} + \\partial_{5} \\psi_{6} - \\partial_{6} \\psi_{5}\\right) + I \\left(\\partial_{0} \\psi_{4} - \\partial_{1} \\psi_{5} - \\partial_{2} \\psi_{6} - \\partial_{3} \\psi_{7} + \\partial_{4} \\psi_{0} + \\partial_{5} \\psi_{1} + \\partial_{6} \\psi_{2}\\right) + J_{1} \\left(\\partial_{0} \\psi_{5} + \\partial_{1} \\psi_{4} - \\partial_{2} \\psi_{7} + \\partial_{3} \\psi_{6} - \\partial_{4} \\psi_{1} + \\partial_{5} \\psi_{0} - \\partial_{6} \\psi_{3}\\right) + J_{2} \\left(\\partial_{0} \\psi_{6} + \\partial_{1} \\psi_{7} + \\partial_{2} \\psi_{4} - \\partial_{3} \\psi_{5} - \\partial_{4} \\psi_{2} + \\partial_{5} \\psi_{3} + \\partial_{6} \\psi_{0}\\right) + J_{3} \\left(\\partial_{0} \\psi_{7} - \\partial_{1} \\psi_{6} + \\partial_{2} \\psi_{5} + \\partial_{3} \\psi_{4} - \\partial_{4} \\psi_{3} - \\partial_{5} \\psi_{2} + \\partial_{6} \\psi_{1}\\right)\\right)\\\\= &\\quad 0\\end{aligned}$"
      ],
      "text/plain": [
       "<IPython.core.display.Math object>"
      ]
     },
     "metadata": {},
     "output_type": "display_data"
    },
    {
     "name": "stdout",
     "output_type": "stream",
     "text": [
      "\n"
     ]
    },
    {
     "data": {
      "text/latex": [
       "$\\displaystyle \\text{Component-wise these equations are:}$"
      ],
      "text/plain": [
       "<IPython.core.display.Math object>"
      ]
     },
     "metadata": {},
     "output_type": "display_data"
    },
    {
     "data": {
      "text/latex": [
       "$\\displaystyle 0=\\partial_{0} \\psi_{0} - \\partial_{1} \\psi_{1} - \\partial_{2} \\psi_{2} - \\partial_{3} \\psi_{3} + \\partial_{4} \\psi_{4} + \\partial_{5} \\psi_{5} + \\partial_{6} \\psi_{6}$"
      ],
      "text/plain": [
       "<IPython.core.display.Math object>"
      ]
     },
     "metadata": {},
     "output_type": "display_data"
    },
    {
     "data": {
      "text/latex": [
       "$\\displaystyle 0=\\partial_{0} \\psi_{1} + \\partial_{1} \\psi_{0} + \\partial_{2} \\psi_{3} - \\partial_{3} \\psi_{2} - \\partial_{4} \\psi_{5} + \\partial_{5} \\psi_{4} + \\partial_{6} \\psi_{7}$"
      ],
      "text/plain": [
       "<IPython.core.display.Math object>"
      ]
     },
     "metadata": {},
     "output_type": "display_data"
    },
    {
     "data": {
      "text/latex": [
       "$\\displaystyle 0=\\partial_{0} \\psi_{2} - \\partial_{1} \\psi_{3} + \\partial_{2} \\psi_{0} + \\partial_{3} \\psi_{1} - \\partial_{4} \\psi_{6} - \\partial_{5} \\psi_{7} + \\partial_{6} \\psi_{4}$"
      ],
      "text/plain": [
       "<IPython.core.display.Math object>"
      ]
     },
     "metadata": {},
     "output_type": "display_data"
    },
    {
     "data": {
      "text/latex": [
       "$\\displaystyle 0=\\partial_{0} \\psi_{3} + \\partial_{1} \\psi_{2} - \\partial_{2} \\psi_{1} + \\partial_{3} \\psi_{0} - \\partial_{4} \\psi_{7} + \\partial_{5} \\psi_{6} - \\partial_{6} \\psi_{5}$"
      ],
      "text/plain": [
       "<IPython.core.display.Math object>"
      ]
     },
     "metadata": {},
     "output_type": "display_data"
    },
    {
     "data": {
      "text/latex": [
       "$\\displaystyle 0=\\partial_{0} \\psi_{4} - \\partial_{1} \\psi_{5} - \\partial_{2} \\psi_{6} - \\partial_{3} \\psi_{7} + \\partial_{4} \\psi_{0} + \\partial_{5} \\psi_{1} + \\partial_{6} \\psi_{2}$"
      ],
      "text/plain": [
       "<IPython.core.display.Math object>"
      ]
     },
     "metadata": {},
     "output_type": "display_data"
    },
    {
     "data": {
      "text/latex": [
       "$\\displaystyle 0=\\partial_{0} \\psi_{5} + \\partial_{1} \\psi_{4} - \\partial_{2} \\psi_{7} + \\partial_{3} \\psi_{6} - \\partial_{4} \\psi_{1} + \\partial_{5} \\psi_{0} - \\partial_{6} \\psi_{3}$"
      ],
      "text/plain": [
       "<IPython.core.display.Math object>"
      ]
     },
     "metadata": {},
     "output_type": "display_data"
    },
    {
     "data": {
      "text/latex": [
       "$\\displaystyle 0=\\partial_{0} \\psi_{6} + \\partial_{1} \\psi_{7} + \\partial_{2} \\psi_{4} - \\partial_{3} \\psi_{5} - \\partial_{4} \\psi_{2} + \\partial_{5} \\psi_{3} + \\partial_{6} \\psi_{0}$"
      ],
      "text/plain": [
       "<IPython.core.display.Math object>"
      ]
     },
     "metadata": {},
     "output_type": "display_data"
    },
    {
     "data": {
      "text/latex": [
       "$\\displaystyle 0=\\partial_{0} \\psi_{7} - \\partial_{1} \\psi_{6} + \\partial_{2} \\psi_{5} + \\partial_{3} \\psi_{4} - \\partial_{4} \\psi_{3} - \\partial_{5} \\psi_{2} + \\partial_{6} \\psi_{1}$"
      ],
      "text/plain": [
       "<IPython.core.display.Math object>"
      ]
     },
     "metadata": {},
     "output_type": "display_data"
    }
   ],
   "source": [
    "splitoct_eq = (dee - syp.Rational(1,2)*J3*dee_sym[7])*ψ\n",
    "eq_components = (2*splitoct_eq).x\n",
    "dispmath( r'\\begin{aligned}(\\partial - \\frac{1}{2}J_3 \\partial_7) \\psi=&\\frac{1}{2}\\left(' + tex(2*splitoct_eq)\n",
    "         + r'\\right)\\\\= &\\quad 0\\end{aligned}')\n",
    "print()\n",
    "dispmath(r'\\text{Component-wise these equations are:}')\n",
    "for entry in eq_components:\n",
    "    dispmath(r'0='+tex(entry))"
   ]
  },
  {
   "cell_type": "code",
   "execution_count": 5,
   "id": "8f75b349",
   "metadata": {
    "tags": []
   },
   "outputs": [
    {
     "data": {
      "text/latex": [
       "$\\displaystyle \\begin{aligned}\\mathcal{L}=&\\thinspace\\frac{1}{2}\\left\\langle J_3\\psi, \\partial \\psi \\right\\rangle\\\\=&\\thinspace\\frac{1}{4} (- \\psi_{0} \\partial_{0} \\psi_{7} + \\psi_{0} \\partial_{1} \\psi_{6} - \\psi_{0} \\partial_{2} \\psi_{5} - \\psi_{0} \\partial_{3} \\psi_{4} + \\psi_{0} \\partial_{4} \\psi_{3} + \\psi_{0} \\partial_{5} \\psi_{2} - \\psi_{0} \\partial_{6} \\psi_{1} - \\psi_{0} \\partial_{7} \\psi_{0} + \\psi_{1} \\partial_{0} \\psi_{6} + \\psi_{1} \\partial_{1} \\psi_{7} + \\psi_{1} \\partial_{2} \\psi_{4} - \\psi_{1} \\partial_{3} \\psi_{5} - \\psi_{1} \\partial_{4} \\psi_{2} + \\psi_{1} \\partial_{5} \\psi_{3} + \\psi_{1} \\partial_{6} \\psi_{0} - \\psi_{1} \\partial_{7} \\psi_{1} - \\psi_{2} \\partial_{0} \\psi_{5} - \\psi_{2} \\partial_{1} \\psi_{4} + \\psi_{2} \\partial_{2} \\psi_{7} - \\psi_{2} \\partial_{3} \\psi_{6} + \\psi_{2} \\partial_{4} \\psi_{1} - \\psi_{2} \\partial_{5} \\psi_{0} + \\psi_{2} \\partial_{6} \\psi_{3} - \\psi_{2} \\partial_{7} \\psi_{2} - \\psi_{3} \\partial_{0} \\psi_{4} + \\psi_{3} \\partial_{1} \\psi_{5} + \\psi_{3} \\partial_{2} \\psi_{6} + \\psi_{3} \\partial_{3} \\psi_{7} - \\psi_{3} \\partial_{4} \\psi_{0} - \\psi_{3} \\partial_{5} \\psi_{1} - \\psi_{3} \\partial_{6} \\psi_{2} - \\psi_{3} \\partial_{7} \\psi_{3} + \\psi_{4} \\partial_{0} \\psi_{3} + \\psi_{4} \\partial_{1} \\psi_{2} - \\psi_{4} \\partial_{2} \\psi_{1} + \\psi_{4} \\partial_{3} \\psi_{0} - \\psi_{4} \\partial_{4} \\psi_{7} + \\psi_{4} \\partial_{5} \\psi_{6} - \\psi_{4} \\partial_{6} \\psi_{5} + \\psi_{4} \\partial_{7} \\psi_{4} + \\psi_{5} \\partial_{0} \\psi_{2} - \\psi_{5} \\partial_{1} \\psi_{3} + \\psi_{5} \\partial_{2} \\psi_{0} + \\psi_{5} \\partial_{3} \\psi_{1} - \\psi_{5} \\partial_{4} \\psi_{6} - \\psi_{5} \\partial_{5} \\psi_{7} + \\psi_{5} \\partial_{6} \\psi_{4} + \\psi_{5} \\partial_{7} \\psi_{5} - \\psi_{6} \\partial_{0} \\psi_{1} - \\psi_{6} \\partial_{1} \\psi_{0} - \\psi_{6} \\partial_{2} \\psi_{3} + \\psi_{6} \\partial_{3} \\psi_{2} + \\psi_{6} \\partial_{4} \\psi_{5} - \\psi_{6} \\partial_{5} \\psi_{4} - \\psi_{6} \\partial_{6} \\psi_{7} + \\psi_{6} \\partial_{7} \\psi_{6} + \\psi_{7} \\partial_{0} \\psi_{0} - \\psi_{7} \\partial_{1} \\psi_{1} - \\psi_{7} \\partial_{2} \\psi_{2} - \\psi_{7} \\partial_{3} \\psi_{3} + \\psi_{7} \\partial_{4} \\psi_{4} + \\psi_{7} \\partial_{5} \\psi_{5} + \\psi_{7} \\partial_{6} \\psi_{6} + \\psi_{7} \\partial_{7} \\psi_{7} ) \\end{aligned}$"
      ],
      "text/plain": [
       "<IPython.core.display.Math object>"
      ]
     },
     "metadata": {},
     "output_type": "display_data"
    },
    {
     "name": "stdout",
     "output_type": "stream",
     "text": [
      "number of terms: 64\n"
     ]
    }
   ],
   "source": [
    "L = syp.Rational(1,2)*syp.expand( (J3*ψ).dot( dee * ψ ) )\n",
    "Lx4disp= syp.expand(4*L)\n",
    "dispmath(r'\\begin{aligned}\\mathcal{L}=&\\thinspace\\frac{1}{2}\\left\\langle J_3\\psi, \\partial \\psi \\right\\rangle\\\\=&\\thinspace\\frac{1}{4} ('\n",
    "         + tex(Lx4disp) + ' ) \\end{aligned}')\n",
    "print('number of terms:', len(Lx4disp.args))"
   ]
  },
  {
   "cell_type": "markdown",
   "id": "07a676ee-5e4d-4098-b58d-64fc95be7339",
   "metadata": {},
   "source": [
    "## Applying principle of stationary action to the Lagrangian\n",
    "\n",
    "\\begin{equation} S\\left[\\psi\\right] = \\int_{\\Omega} d^8x \\mathcal{L} \\end{equation}\n",
    "\n",
    "where $\\Omega\\subset\\mathbb{O}^\\prime$.\n",
    "\n",
    "Action is startionarized by requirng that $ \\delta S\\left[\\psi\\right] = 0 $ where\n",
    "\n",
    "\\begin{equation} \\delta S\\left[\\psi\\right] = \\lim_{\\varepsilon\\rightarrow 0} \\frac{d}{d\\varepsilon}S\\left[\\psi_{\\varepsilon}\\right] \\end{equation}\n",
    "\\begin{equation} \\psi_\\varepsilon = \\psi + \\varepsilon \\eta \\end{equation}\n",
    "and\n",
    "\\begin{equation} \\eta\\left(\\Omega\\right) = 0 \\thinspace.  \\end{equation}"
   ]
  },
  {
   "cell_type": "code",
   "execution_count": 6,
   "id": "47963d17",
   "metadata": {
    "tags": []
   },
   "outputs": [
    {
     "data": {
      "text/latex": [
       "$\\displaystyle \\begin{aligned} \\delta S\\left[\\psi\\right] =& \\frac{1}{4} \\int_{\\Omega}d^8x\\left(- \\eta_{0} \\partial_{0} \\psi_{7} + \\eta_{0} \\partial_{1} \\psi_{6} - \\eta_{0} \\partial_{2} \\psi_{5} - \\eta_{0} \\partial_{3} \\psi_{4} + \\eta_{0} \\partial_{4} \\psi_{3} + \\eta_{0} \\partial_{5} \\psi_{2} - \\eta_{0} \\partial_{6} \\psi_{1} - \\eta_{0} \\partial_{7} \\psi_{0} + \\eta_{1} \\partial_{0} \\psi_{6} + \\eta_{1} \\partial_{1} \\psi_{7} + \\eta_{1} \\partial_{2} \\psi_{4} - \\eta_{1} \\partial_{3} \\psi_{5} - \\eta_{1} \\partial_{4} \\psi_{2} + \\eta_{1} \\partial_{5} \\psi_{3} + \\eta_{1} \\partial_{6} \\psi_{0} - \\eta_{1} \\partial_{7} \\psi_{1} - \\eta_{2} \\partial_{0} \\psi_{5} - \\eta_{2} \\partial_{1} \\psi_{4} + \\eta_{2} \\partial_{2} \\psi_{7} - \\eta_{2} \\partial_{3} \\psi_{6} + \\eta_{2} \\partial_{4} \\psi_{1} - \\eta_{2} \\partial_{5} \\psi_{0} + \\eta_{2} \\partial_{6} \\psi_{3} - \\eta_{2} \\partial_{7} \\psi_{2} - \\eta_{3} \\partial_{0} \\psi_{4} + \\eta_{3} \\partial_{1} \\psi_{5} + \\eta_{3} \\partial_{2} \\psi_{6} + \\eta_{3} \\partial_{3} \\psi_{7} - \\eta_{3} \\partial_{4} \\psi_{0} - \\eta_{3} \\partial_{5} \\psi_{1} - \\eta_{3} \\partial_{6} \\psi_{2} - \\eta_{3} \\partial_{7} \\psi_{3} + \\eta_{4} \\partial_{0} \\psi_{3} + \\eta_{4} \\partial_{1} \\psi_{2} - \\eta_{4} \\partial_{2} \\psi_{1} + \\eta_{4} \\partial_{3} \\psi_{0} - \\eta_{4} \\partial_{4} \\psi_{7} + \\eta_{4} \\partial_{5} \\psi_{6} - \\eta_{4} \\partial_{6} \\psi_{5} + \\eta_{4} \\partial_{7} \\psi_{4} + \\eta_{5} \\partial_{0} \\psi_{2} - \\eta_{5} \\partial_{1} \\psi_{3} + \\eta_{5} \\partial_{2} \\psi_{0} + \\eta_{5} \\partial_{3} \\psi_{1} - \\eta_{5} \\partial_{4} \\psi_{6} - \\eta_{5} \\partial_{5} \\psi_{7} + \\eta_{5} \\partial_{6} \\psi_{4} + \\eta_{5} \\partial_{7} \\psi_{5} - \\eta_{6} \\partial_{0} \\psi_{1} - \\eta_{6} \\partial_{1} \\psi_{0} - \\eta_{6} \\partial_{2} \\psi_{3} + \\eta_{6} \\partial_{3} \\psi_{2} + \\eta_{6} \\partial_{4} \\psi_{5} - \\eta_{6} \\partial_{5} \\psi_{4} - \\eta_{6} \\partial_{6} \\psi_{7} + \\eta_{6} \\partial_{7} \\psi_{6} + \\eta_{7} \\partial_{0} \\psi_{0} - \\eta_{7} \\partial_{1} \\psi_{1} - \\eta_{7} \\partial_{2} \\psi_{2} - \\eta_{7} \\partial_{3} \\psi_{3} + \\eta_{7} \\partial_{4} \\psi_{4} + \\eta_{7} \\partial_{5} \\psi_{5} + \\eta_{7} \\partial_{6} \\psi_{6} + \\eta_{7} \\partial_{7} \\psi_{7} - \\psi_{0} \\partial_{0} \\eta_{7} + \\psi_{0} \\partial_{1} \\eta_{6} - \\psi_{0} \\partial_{2} \\eta_{5} - \\psi_{0} \\partial_{3} \\eta_{4} + \\psi_{0} \\partial_{4} \\eta_{3} + \\psi_{0} \\partial_{5} \\eta_{2} - \\psi_{0} \\partial_{6} \\eta_{1} - \\psi_{0} \\partial_{7} \\eta_{0} + \\psi_{1} \\partial_{0} \\eta_{6} + \\psi_{1} \\partial_{1} \\eta_{7} + \\psi_{1} \\partial_{2} \\eta_{4} - \\psi_{1} \\partial_{3} \\eta_{5} - \\psi_{1} \\partial_{4} \\eta_{2} + \\psi_{1} \\partial_{5} \\eta_{3} + \\psi_{1} \\partial_{6} \\eta_{0} - \\psi_{1} \\partial_{7} \\eta_{1} - \\psi_{2} \\partial_{0} \\eta_{5} - \\psi_{2} \\partial_{1} \\eta_{4} + \\psi_{2} \\partial_{2} \\eta_{7} - \\psi_{2} \\partial_{3} \\eta_{6} + \\psi_{2} \\partial_{4} \\eta_{1} - \\psi_{2} \\partial_{5} \\eta_{0} + \\psi_{2} \\partial_{6} \\eta_{3} - \\psi_{2} \\partial_{7} \\eta_{2} - \\psi_{3} \\partial_{0} \\eta_{4} + \\psi_{3} \\partial_{1} \\eta_{5} + \\psi_{3} \\partial_{2} \\eta_{6} + \\psi_{3} \\partial_{3} \\eta_{7} - \\psi_{3} \\partial_{4} \\eta_{0} - \\psi_{3} \\partial_{5} \\eta_{1} - \\psi_{3} \\partial_{6} \\eta_{2} - \\psi_{3} \\partial_{7} \\eta_{3} + \\psi_{4} \\partial_{0} \\eta_{3} + \\psi_{4} \\partial_{1} \\eta_{2} - \\psi_{4} \\partial_{2} \\eta_{1} + \\psi_{4} \\partial_{3} \\eta_{0} - \\psi_{4} \\partial_{4} \\eta_{7} + \\psi_{4} \\partial_{5} \\eta_{6} - \\psi_{4} \\partial_{6} \\eta_{5} + \\psi_{4} \\partial_{7} \\eta_{4} + \\psi_{5} \\partial_{0} \\eta_{2} - \\psi_{5} \\partial_{1} \\eta_{3} + \\psi_{5} \\partial_{2} \\eta_{0} + \\psi_{5} \\partial_{3} \\eta_{1} - \\psi_{5} \\partial_{4} \\eta_{6} - \\psi_{5} \\partial_{5} \\eta_{7} + \\psi_{5} \\partial_{6} \\eta_{4} + \\psi_{5} \\partial_{7} \\eta_{5} - \\psi_{6} \\partial_{0} \\eta_{1} - \\psi_{6} \\partial_{1} \\eta_{0} - \\psi_{6} \\partial_{2} \\eta_{3} + \\psi_{6} \\partial_{3} \\eta_{2} + \\psi_{6} \\partial_{4} \\eta_{5} - \\psi_{6} \\partial_{5} \\eta_{4} - \\psi_{6} \\partial_{6} \\eta_{7} + \\psi_{6} \\partial_{7} \\eta_{6} + \\psi_{7} \\partial_{0} \\eta_{0} - \\psi_{7} \\partial_{1} \\eta_{1} - \\psi_{7} \\partial_{2} \\eta_{2} - \\psi_{7} \\partial_{3} \\eta_{3} + \\psi_{7} \\partial_{4} \\eta_{4} + \\psi_{7} \\partial_{5} \\eta_{5} + \\psi_{7} \\partial_{6} \\eta_{6} + \\psi_{7} \\partial_{7} \\eta_{7}\\right)\\\\\\end{aligned}$"
      ],
      "text/plain": [
       "<IPython.core.display.Math object>"
      ]
     },
     "metadata": {},
     "output_type": "display_data"
    },
    {
     "name": "stdout",
     "output_type": "stream",
     "text": [
      "number of terms: 128\n"
     ]
    }
   ],
   "source": [
    "L_1 = L\n",
    "# substituting \\psi with \\psi_{\\varepsilon}\n",
    "for n in range(8):\n",
    "    L_1 = L_1.subs(ψ_sym[n], ψ_sym[n] + ε * η_sym[n])\n",
    "\n",
    "# computing derivative with respect to \\varepsilo and setting \\varepsilon to zero\n",
    "L_1 = syp.expand(L_1)\n",
    "L_1 = syp.collect(L_1, ε)\n",
    "for arg in L_1.args:\n",
    "    if ε in arg.args:\n",
    "        L_1 = syp.simplify(arg / ε)\n",
    "        break\n",
    "\n",
    "dispmath(r'\\begin{aligned} \\delta S\\left[\\psi\\right] =& \\frac{1}{4} \\int_{\\Omega}d^8x\\left(' + tex(4*L_1) + r'\\right)\\\\\\end{aligned}')\n",
    "print('number of terms:', len((4*L_1).args))"
   ]
  },
  {
   "cell_type": "markdown",
   "id": "b64cd3fc-12c1-468f-8d42-3c729993fded",
   "metadata": {},
   "source": [
    "Here we use the fact that terms invloving derivative of $\\eta$ can be replaced using integratoin by parts and $\\eta{\\Omega}=0$ condition\n",
    "\n",
    "\\begin{equation} \\begin{aligned}\\int_{\\Omega_{\\neq\\nu}}d^{7}x\\int_{\\Omega_{\\nu}}dx_{\\nu}\\psi_{\\mu}\\partial_{\\nu}\\eta_{\\sigma} & =\\int_{\\Omega_{\\neq\\nu}}d^{7}x\\left(\\left.\\eta_{\\sigma}\\psi_{\\mu}\\right|_{\\Omega_{\\nu}}-\\int_{\\Omega_{\\nu}}dx_{\\nu}\\eta_{\\sigma}\\partial_{\\nu}\\psi_{\\mu}\\right)\\\\\n",
    " & =-\\int_{\\Omega_{\\neq\\nu}}d^{7}x\\int_{\\Omega_{\\nu}}dx_{\\nu}\\eta_{\\sigma}\\partial_{\\nu}\\psi_{\\mu}\n",
    "\\end{aligned}\n",
    "\\end{equation}"
   ]
  },
  {
   "cell_type": "code",
   "execution_count": 7,
   "id": "0c91aec6",
   "metadata": {
    "tags": []
   },
   "outputs": [
    {
     "data": {
      "text/latex": [
       "$\\displaystyle \\begin{aligned} \\delta S\\left[\\psi\\right] =& \\frac{1}{2}\\int_{\\Omega}d^8x\\left(- \\eta_{0} \\partial_{0} \\psi_{7} + \\eta_{0} \\partial_{1} \\psi_{6} - \\eta_{0} \\partial_{2} \\psi_{5} - \\eta_{0} \\partial_{3} \\psi_{4} + \\eta_{0} \\partial_{4} \\psi_{3} + \\eta_{0} \\partial_{5} \\psi_{2} - \\eta_{0} \\partial_{6} \\psi_{1} + \\eta_{1} \\partial_{0} \\psi_{6} + \\eta_{1} \\partial_{1} \\psi_{7} + \\eta_{1} \\partial_{2} \\psi_{4} - \\eta_{1} \\partial_{3} \\psi_{5} - \\eta_{1} \\partial_{4} \\psi_{2} + \\eta_{1} \\partial_{5} \\psi_{3} + \\eta_{1} \\partial_{6} \\psi_{0} - \\eta_{2} \\partial_{0} \\psi_{5} - \\eta_{2} \\partial_{1} \\psi_{4} + \\eta_{2} \\partial_{2} \\psi_{7} - \\eta_{2} \\partial_{3} \\psi_{6} + \\eta_{2} \\partial_{4} \\psi_{1} - \\eta_{2} \\partial_{5} \\psi_{0} + \\eta_{2} \\partial_{6} \\psi_{3} - \\eta_{3} \\partial_{0} \\psi_{4} + \\eta_{3} \\partial_{1} \\psi_{5} + \\eta_{3} \\partial_{2} \\psi_{6} + \\eta_{3} \\partial_{3} \\psi_{7} - \\eta_{3} \\partial_{4} \\psi_{0} - \\eta_{3} \\partial_{5} \\psi_{1} - \\eta_{3} \\partial_{6} \\psi_{2} + \\eta_{4} \\partial_{0} \\psi_{3} + \\eta_{4} \\partial_{1} \\psi_{2} - \\eta_{4} \\partial_{2} \\psi_{1} + \\eta_{4} \\partial_{3} \\psi_{0} - \\eta_{4} \\partial_{4} \\psi_{7} + \\eta_{4} \\partial_{5} \\psi_{6} - \\eta_{4} \\partial_{6} \\psi_{5} + \\eta_{5} \\partial_{0} \\psi_{2} - \\eta_{5} \\partial_{1} \\psi_{3} + \\eta_{5} \\partial_{2} \\psi_{0} + \\eta_{5} \\partial_{3} \\psi_{1} - \\eta_{5} \\partial_{4} \\psi_{6} - \\eta_{5} \\partial_{5} \\psi_{7} + \\eta_{5} \\partial_{6} \\psi_{4} - \\eta_{6} \\partial_{0} \\psi_{1} - \\eta_{6} \\partial_{1} \\psi_{0} - \\eta_{6} \\partial_{2} \\psi_{3} + \\eta_{6} \\partial_{3} \\psi_{2} + \\eta_{6} \\partial_{4} \\psi_{5} - \\eta_{6} \\partial_{5} \\psi_{4} - \\eta_{6} \\partial_{6} \\psi_{7} + \\eta_{7} \\partial_{0} \\psi_{0} - \\eta_{7} \\partial_{1} \\psi_{1} - \\eta_{7} \\partial_{2} \\psi_{2} - \\eta_{7} \\partial_{3} \\psi_{3} + \\eta_{7} \\partial_{4} \\psi_{4} + \\eta_{7} \\partial_{5} \\psi_{5} + \\eta_{7} \\partial_{6} \\psi_{6}\\right)\\\\\\end{aligned}$"
      ],
      "text/plain": [
       "<IPython.core.display.Math object>"
      ]
     },
     "metadata": {},
     "output_type": "display_data"
    },
    {
     "name": "stdout",
     "output_type": "stream",
     "text": [
      "number of terms: 2\n"
     ]
    }
   ],
   "source": [
    "# integrating by parts and throwing away a boundary term\n",
    "L_2 = 0\n",
    "for arg in (4*L_1).args:\n",
    "    factors = list(arg.args)\n",
    "    if 'eta' in syp.latex( factors[-1] ): # if \\eta is under derivative\n",
    "        # swapping (\\psi \\partial \\eta) with (-\\eta \\partial \\psi)\n",
    "        eta = factors[-1]\n",
    "        psi = factors[-3]\n",
    "        factors[-1] = psi\n",
    "        factors[-3] = eta\n",
    "        L_2 += - prod(factors)\n",
    "    else:\n",
    "        L_2 += arg\n",
    "L_2 = syp.simplify(L_2 / 4)\n",
    "\n",
    "dispmath(r'\\begin{aligned} \\delta S\\left[\\psi\\right] =& \\frac{1}{2}\\int_{\\Omega}d^8x\\left(' + tex(2*L_2) + r'\\right)\\\\\\end{aligned}')\n",
    "print('number of terms:', len(L_2.args))"
   ]
  },
  {
   "cell_type": "markdown",
   "id": "a6a70371-a9c9-447c-9999-d566743548cb",
   "metadata": {},
   "source": [
    "Since $ \\delta S\\left[\\psi\\right]=0 $ for any $\\eta$ we can collect terms in $\\eta_{\\mu}$ and equate their coefficients to zero to obtain equation of motion."
   ]
  },
  {
   "cell_type": "code",
   "execution_count": 8,
   "id": "c1f6c055",
   "metadata": {
    "tags": []
   },
   "outputs": [
    {
     "data": {
      "text/latex": [
       "$\\displaystyle 0=- \\partial_{0} \\psi_{7} + \\partial_{1} \\psi_{6} - \\partial_{2} \\psi_{5} - \\partial_{3} \\psi_{4} + \\partial_{4} \\psi_{3} + \\partial_{5} \\psi_{2} - \\partial_{6} \\psi_{1}$"
      ],
      "text/plain": [
       "<IPython.core.display.Math object>"
      ]
     },
     "metadata": {},
     "output_type": "display_data"
    },
    {
     "data": {
      "text/latex": [
       "$\\displaystyle 0=\\partial_{0} \\psi_{6} + \\partial_{1} \\psi_{7} + \\partial_{2} \\psi_{4} - \\partial_{3} \\psi_{5} - \\partial_{4} \\psi_{2} + \\partial_{5} \\psi_{3} + \\partial_{6} \\psi_{0}$"
      ],
      "text/plain": [
       "<IPython.core.display.Math object>"
      ]
     },
     "metadata": {},
     "output_type": "display_data"
    },
    {
     "data": {
      "text/latex": [
       "$\\displaystyle 0=- \\partial_{0} \\psi_{5} - \\partial_{1} \\psi_{4} + \\partial_{2} \\psi_{7} - \\partial_{3} \\psi_{6} + \\partial_{4} \\psi_{1} - \\partial_{5} \\psi_{0} + \\partial_{6} \\psi_{3}$"
      ],
      "text/plain": [
       "<IPython.core.display.Math object>"
      ]
     },
     "metadata": {},
     "output_type": "display_data"
    },
    {
     "data": {
      "text/latex": [
       "$\\displaystyle 0=- \\partial_{0} \\psi_{4} + \\partial_{1} \\psi_{5} + \\partial_{2} \\psi_{6} + \\partial_{3} \\psi_{7} - \\partial_{4} \\psi_{0} - \\partial_{5} \\psi_{1} - \\partial_{6} \\psi_{2}$"
      ],
      "text/plain": [
       "<IPython.core.display.Math object>"
      ]
     },
     "metadata": {},
     "output_type": "display_data"
    },
    {
     "data": {
      "text/latex": [
       "$\\displaystyle 0=\\partial_{0} \\psi_{3} + \\partial_{1} \\psi_{2} - \\partial_{2} \\psi_{1} + \\partial_{3} \\psi_{0} - \\partial_{4} \\psi_{7} + \\partial_{5} \\psi_{6} - \\partial_{6} \\psi_{5}$"
      ],
      "text/plain": [
       "<IPython.core.display.Math object>"
      ]
     },
     "metadata": {},
     "output_type": "display_data"
    },
    {
     "data": {
      "text/latex": [
       "$\\displaystyle 0=\\partial_{0} \\psi_{2} - \\partial_{1} \\psi_{3} + \\partial_{2} \\psi_{0} + \\partial_{3} \\psi_{1} - \\partial_{4} \\psi_{6} - \\partial_{5} \\psi_{7} + \\partial_{6} \\psi_{4}$"
      ],
      "text/plain": [
       "<IPython.core.display.Math object>"
      ]
     },
     "metadata": {},
     "output_type": "display_data"
    },
    {
     "data": {
      "text/latex": [
       "$\\displaystyle 0=- \\partial_{0} \\psi_{1} - \\partial_{1} \\psi_{0} - \\partial_{2} \\psi_{3} + \\partial_{3} \\psi_{2} + \\partial_{4} \\psi_{5} - \\partial_{5} \\psi_{4} - \\partial_{6} \\psi_{7}$"
      ],
      "text/plain": [
       "<IPython.core.display.Math object>"
      ]
     },
     "metadata": {},
     "output_type": "display_data"
    },
    {
     "data": {
      "text/latex": [
       "$\\displaystyle 0=\\partial_{0} \\psi_{0} - \\partial_{1} \\psi_{1} - \\partial_{2} \\psi_{2} - \\partial_{3} \\psi_{3} + \\partial_{4} \\psi_{4} + \\partial_{5} \\psi_{5} + \\partial_{6} \\psi_{6}$"
      ],
      "text/plain": [
       "<IPython.core.display.Math object>"
      ]
     },
     "metadata": {},
     "output_type": "display_data"
    }
   ],
   "source": [
    "collected = 8 * [0]\n",
    "for arg in (2*L_2).args:\n",
    "    for n in range(8):\n",
    "        if η_sym[n] in arg.args:\n",
    "            collected[n] += arg\n",
    "for n in range(8):\n",
    "    collected[n] = syp.simplify( ( 1 / η_sym[n] ) * collected[n] )\n",
    "    dispmath(r'0=' + tex(collected[n]) )"
   ]
  },
  {
   "cell_type": "code",
   "execution_count": 9,
   "id": "d0827ee1",
   "metadata": {
    "tags": []
   },
   "outputs": [
    {
     "name": "stdout",
     "output_type": "stream",
     "text": [
      "[7, -6, 5, 4, -3, -2, 1, 0]\n",
      "\n"
     ]
    },
    {
     "data": {
      "text/latex": [
       "$\\displaystyle \\text{Stationarizing the action results in: } \\left(\\partial - \\frac{1}{2} J_3 \\partial_7 \\right) \\psi = 0$"
      ],
      "text/plain": [
       "<IPython.core.display.Math object>"
      ]
     },
     "metadata": {},
     "output_type": "display_data"
    }
   ],
   "source": [
    "def compare(vec_1, vec_2):\n",
    "    idxs = list(range(8))\n",
    "    output = []\n",
    "    for m, comp_1 in enumerate(vec_1):\n",
    "        for n, comp_2 in enumerate(vec_2):\n",
    "            if n in idxs:\n",
    "                if comp_1 - comp_2 == 0:\n",
    "                    output.append(n)\n",
    "                elif comp_1 + comp_2 == 0:\n",
    "                    output.append(-n)\n",
    "    return output\n",
    "\n",
    "comparison = compare(eq_components, collected)\n",
    "print(comparison)\n",
    "print()\n",
    "if len(comparison) == 8 and len(list(set([abs(entry) for entry in comparison]))) == len(comparison):\n",
    "    dispmath(r'''\\text{Stationarizing the action results in: } \\left(\\partial - \\frac{1}{2} J_3 \\partial_7 \\right) \\psi = 0''')\n",
    "else:\n",
    "    dispmath(r'''\\text{Stationarizing the action does not result in: } \\left(\\partial - \\frac{1}{2} J_3 \\partial_7 \\right) \\psi = 0''')"
   ]
  }
 ],
 "metadata": {
  "kernelspec": {
   "display_name": "Python 3 (ipykernel)",
   "language": "python",
   "name": "python3"
  },
  "language_info": {
   "codemirror_mode": {
    "name": "ipython",
    "version": 3
   },
   "file_extension": ".py",
   "mimetype": "text/x-python",
   "name": "python",
   "nbconvert_exporter": "python",
   "pygments_lexer": "ipython3",
   "version": "3.10.10"
  }
 },
 "nbformat": 4,
 "nbformat_minor": 5
}
