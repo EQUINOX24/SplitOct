{
 "cells": [
  {
   "cell_type": "code",
   "execution_count": 1,
   "id": "77208af6-924b-4e9a-901d-7ea3127b7c41",
   "metadata": {},
   "outputs": [
    {
     "name": "stdout",
     "output_type": "stream",
     "text": [
      "python     : 3.10.10 (main, Mar  5 2023, 22:26:53) [GCC 12.2.1 20230201]\n",
      "sympy      : 1.9\n",
      "SplitOct   : 0.11\n",
      "\n",
      "Selected Jupyter core packages...\n",
      "IPython          : 8.11.0\n",
      "ipykernel        : 6.21.3\n",
      "ipywidgets       : 8.0.4\n",
      "jupyter_client   : 8.0.3\n",
      "jupyter_core     : 5.2.0\n",
      "jupyter_server   : 2.4.0\n",
      "jupyterlab       : 3.6.1\n",
      "nbclient         : 0.7.2\n",
      "nbconvert        : 7.2.10\n",
      "nbformat         : 5.7.3\n",
      "notebook         : 6.5.3\n",
      "qtconsole        : not installed\n",
      "traitlets        : 5.9.0\n"
     ]
    }
   ],
   "source": [
    "import sympy as syp\n",
    "from IPython.display import Math as displayMath\n",
    "from SplitOct import *\n",
    "syp.init_printing(use_unicode=True)\n",
    "# import numpy as np\n",
    "\n",
    "import sys\n",
    "print('python     :', sys.version)\n",
    "print('sympy      :', syp.__version__)\n",
    "print('SplitOct   :', version())\n",
    "# print('numpy      :', np.__version__)\n",
    "print()\n",
    "!jupyter --version"
   ]
  },
  {
   "cell_type": "code",
   "execution_count": 2,
   "id": "3f044475-e493-417c-8249-0ebf3b8090d8",
   "metadata": {},
   "outputs": [],
   "source": [
    "# useful functions and shortcuts\n",
    "dispmath = lambda x: display(displayMath(x))\n",
    "tex = syp.latex\n",
    "i = syp.I\n",
    "def sypHermConj(x):\n",
    "    return syp.transpose(syp.conjugate(x))"
   ]
  },
  {
   "cell_type": "code",
   "execution_count": 3,
   "id": "fb3ddda7-248a-4075-8837-8815088d9bfe",
   "metadata": {},
   "outputs": [],
   "source": [
    "def check_clifford_algebra(g_metric, Γ):\n",
    "    N = len(Γ)\n",
    "    matrix_dim = Γ[0].shape[0]\n",
    "    identity_matrix = syp.eye(matrix_dim)\n",
    "    correct = True\n",
    "    for m in range(N):\n",
    "        for n in range(N):\n",
    "            LHS = Γ[m]@Γ[n] + Γ[n]@Γ[m]\n",
    "            RHS = 2 * g_metric[m,n] * identity_matrix\n",
    "            if LHS != RHS:\n",
    "                correct = False\n",
    "                print(f'Problem in (m,n)=({m},{n}).')\n",
    "    if correct: print('Clifford algebra relatoins are satisfied for the provided metric.')"
   ]
  },
  {
   "cell_type": "markdown",
   "id": "9e670d99-5d70-4d7e-83a9-88d00d81fd95",
   "metadata": {},
   "source": [
    "## Regular Dirac equation\n",
    "In standard Clifford algebraic matrix formulation of Dirac theory the Dirac equation is\n",
    "\n",
    "\\begin{equation} i\\gamma^{\\mu}D_{\\mu}\\psi=m\\psi \\end{equation}\n",
    "\n",
    "where\n",
    "\n",
    "\\begin{equation} D_{\\mu}=\\partial_{\\mu}+ieA_{\\mu} \\end{equation}\n",
    "\n",
    "and\n",
    "\n",
    "\\begin{equation} \\gamma^{\\mu}=\\left(\\begin{pmatrix}1 & 0\\\\\n",
    "0 & -1\n",
    "\\end{pmatrix},\\quad\\begin{pmatrix}0 & \\boldsymbol{\\sigma}\\\\\n",
    "-\\boldsymbol{\\sigma} & 0\n",
    "\\end{pmatrix}\\right) \\end{equation}\n",
    "\n",
    "\\begin{equation} \\sigma_{1}=\\begin{pmatrix}0 & 1\\\\\n",
    "1 & 0\n",
    "\\end{pmatrix},\\qquad\\sigma_{2}=\\begin{pmatrix}0 & -i\\\\\n",
    "i & 0\n",
    "\\end{pmatrix},\\qquad\\sigma_{3}=\\begin{pmatrix}1 & 0\\\\\n",
    "0 & -1\n",
    "\\end{pmatrix} \\end{equation}"
   ]
  },
  {
   "cell_type": "code",
   "execution_count": 4,
   "id": "c8c50524-dcc6-4b24-8aeb-3c8872e9702a",
   "metadata": {},
   "outputs": [
    {
     "data": {
      "text/latex": [
       "$\\displaystyle \\text{Dirac gamma matrices:}$"
      ],
      "text/plain": [
       "<IPython.core.display.Math object>"
      ]
     },
     "metadata": {},
     "output_type": "display_data"
    },
    {
     "data": {
      "text/latex": [
       "$\\displaystyle \\gamma^0 = \\left[\\begin{matrix}1 & 0 & 0 & 0\\\\0 & 1 & 0 & 0\\\\0 & 0 & -1 & 0\\\\0 & 0 & 0 & -1\\end{matrix}\\right]$"
      ],
      "text/plain": [
       "<IPython.core.display.Math object>"
      ]
     },
     "metadata": {},
     "output_type": "display_data"
    },
    {
     "data": {
      "text/latex": [
       "$\\displaystyle \\gamma^1 = \\left[\\begin{matrix}0 & 0 & 0 & 1\\\\0 & 0 & 1 & 0\\\\0 & -1 & 0 & 0\\\\-1 & 0 & 0 & 0\\end{matrix}\\right]$"
      ],
      "text/plain": [
       "<IPython.core.display.Math object>"
      ]
     },
     "metadata": {},
     "output_type": "display_data"
    },
    {
     "data": {
      "text/latex": [
       "$\\displaystyle \\gamma^2 = \\left[\\begin{matrix}0 & 0 & 0 & - i\\\\0 & 0 & i & 0\\\\0 & i & 0 & 0\\\\- i & 0 & 0 & 0\\end{matrix}\\right]$"
      ],
      "text/plain": [
       "<IPython.core.display.Math object>"
      ]
     },
     "metadata": {},
     "output_type": "display_data"
    },
    {
     "data": {
      "text/latex": [
       "$\\displaystyle \\gamma^3 = \\left[\\begin{matrix}0 & 0 & 1 & 0\\\\0 & 0 & 0 & -1\\\\-1 & 0 & 0 & 0\\\\0 & 1 & 0 & 0\\end{matrix}\\right]$"
      ],
      "text/plain": [
       "<IPython.core.display.Math object>"
      ]
     },
     "metadata": {},
     "output_type": "display_data"
    },
    {
     "data": {
      "text/latex": [
       "$\\displaystyle \\text{Minkowski metrix:}$"
      ],
      "text/plain": [
       "<IPython.core.display.Math object>"
      ]
     },
     "metadata": {},
     "output_type": "display_data"
    },
    {
     "data": {
      "text/latex": [
       "$\\displaystyle g_{\\mu\\nu}=\\left[\\begin{matrix}1 & 0 & 0 & 0\\\\0 & -1 & 0 & 0\\\\0 & 0 & -1 & 0\\\\0 & 0 & 0 & -1\\end{matrix}\\right]$"
      ],
      "text/plain": [
       "<IPython.core.display.Math object>"
      ]
     },
     "metadata": {},
     "output_type": "display_data"
    },
    {
     "data": {
      "text/latex": [
       "$\\displaystyle \\text{Checking if given } \\gamma \\text{ matrices satisfy Clifford algebra relations of given metric....}$"
      ],
      "text/plain": [
       "<IPython.core.display.Math object>"
      ]
     },
     "metadata": {},
     "output_type": "display_data"
    },
    {
     "name": "stdout",
     "output_type": "stream",
     "text": [
      "Clifford algebra relatoins are satisfied for the provided metric.\n"
     ]
    }
   ],
   "source": [
    "m_mass = syp.symbols('m', real=True) # d / d lambda\n",
    "dee = 4*[None]\n",
    "A = 4*[None]\n",
    "ψ = 8*[None]\n",
    "γ = 4*[None]\n",
    "\n",
    "for n in range(4):\n",
    "    dee[n] = syp.symbols(f'\\partial_{n}', commutative=False)\n",
    "    A[n] = syp.symbols(f'A_{n}', real=True)\n",
    "    ψ[n] = syp.symbols(f'psi_{n}', commutative=False)\n",
    "    ψ[4+n] = syp.symbols(f'psi_{4+n}', commutative=False)\n",
    "\n",
    "γ[0] = syp.Matrix([\n",
    "    [ 1,  0,  0,  0],\n",
    "    [ 0,  1,  0,  0],\n",
    "    [ 0,  0, -1,  0],\n",
    "    [ 0,  0,  0, -1]])\n",
    "\n",
    "γ[1] = syp.Matrix([\n",
    "    [ 0,  0,  0,  1],\n",
    "    [ 0,  0,  1,  0],\n",
    "    [ 0, -1,  0,  0],\n",
    "    [-1,  0,  0,  0]])\n",
    "\n",
    "γ[2] = syp.Matrix([\n",
    "    [ 0,  0,  0, -i],\n",
    "    [ 0,  0,  i,  0],\n",
    "    [ 0,  i,  0,  0],\n",
    "    [-i,  0,  0,  0]])\n",
    "\n",
    "γ[3] = syp.Matrix([\n",
    "    [ 0,  0,  1,  0],\n",
    "    [ 0,  0,  0, -1],\n",
    "    [-1,  0,  0,  0],\n",
    "    [ 0,  1,  0,  0]])\n",
    "\n",
    "\n",
    "dispmath(r'\\text{Dirac gamma matrices:}')\n",
    "for n in range(4):\n",
    "    dispmath(rf'\\gamma^{n} = ' + tex(γ[n]))\n",
    "\n",
    "g_minkowski_metric = syp.diag(1, -1, -1, -1)\n",
    "dispmath(r'\\text{Minkowski metrix:}')\n",
    "dispmath(r'g_{\\mu\\nu}=' + tex(g_minkowski_metric))\n",
    "    \n",
    "dispmath(r'\\text{Checking if given } \\gamma \\text{ matrices satisfy Clifford algebra relations of given metric....}')\n",
    "check_clifford_algebra(g_minkowski_metric, γ)"
   ]
  },
  {
   "cell_type": "code",
   "execution_count": 5,
   "id": "653458d5-4925-4226-92a7-9f77c615972f",
   "metadata": {
    "tags": []
   },
   "outputs": [
    {
     "data": {
      "text/latex": [
       "$\\displaystyle \\text{We choose the following labeling of Dirac spinor components in order that it matches}$"
      ],
      "text/plain": [
       "<IPython.core.display.Math object>"
      ]
     },
     "metadata": {},
     "output_type": "display_data"
    },
    {
     "data": {
      "text/latex": [
       "$\\displaystyle \\text{up with split octonionic version with our choice of split octonionic basis unit odering.}$"
      ],
      "text/plain": [
       "<IPython.core.display.Math object>"
      ]
     },
     "metadata": {},
     "output_type": "display_data"
    },
    {
     "data": {
      "text/latex": [
       "$\\displaystyle \\psi=\\left[\\begin{matrix}\\psi_{4} + i \\psi_{7}\\\\i \\psi_{5} - \\psi_{6}\\\\i \\psi_{0} + \\psi_{3}\\\\\\psi_{1} + i \\psi_{2}\\end{matrix}\\right]$"
      ],
      "text/plain": [
       "<IPython.core.display.Math object>"
      ]
     },
     "metadata": {},
     "output_type": "display_data"
    }
   ],
   "source": [
    "ψ_mat_dirac = syp.Matrix([\n",
    "    [ ψ[4] + i*ψ[7]],\n",
    "    [-ψ[6] + i*ψ[5]],\n",
    "    [ ψ[3] + i*ψ[0]],\n",
    "    [ ψ[1] + i*ψ[2]]])\n",
    "\n",
    "dispmath(r'\\text{We choose the following labeling of Dirac spinor components in order that it matches}')\n",
    "dispmath(r'\\text{up with split octonionic version with our choice of split octonionic basis unit odering.}''')\n",
    "dispmath(r'\\psi=' + tex(ψ_mat_dirac))"
   ]
  },
  {
   "cell_type": "code",
   "execution_count": 6,
   "id": "109e14bf-1e8b-4bef-a06f-936a7197d030",
   "metadata": {
    "tags": []
   },
   "outputs": [
    {
     "data": {
      "text/latex": [
       "$\\displaystyle \\text{Dirac equation component wise is:}$"
      ],
      "text/plain": [
       "<IPython.core.display.Math object>"
      ]
     },
     "metadata": {},
     "output_type": "display_data"
    },
    {
     "data": {
      "text/latex": [
       "$\\displaystyle 0=- A_{0} \\psi_{4} + A_{1} \\psi_{1} + A_{2} \\psi_{2} + A_{3} \\psi_{3} - m \\psi_{4} - \\partial_{0} \\psi_{7} - \\partial_{1} \\psi_{2} + \\partial_{2} \\psi_{1} - \\partial_{3} \\psi_{0}$"
      ],
      "text/plain": [
       "<IPython.core.display.Math object>"
      ]
     },
     "metadata": {},
     "output_type": "display_data"
    },
    {
     "data": {
      "text/latex": [
       "$\\displaystyle 0=A_{0} \\psi_{6} + A_{1} \\psi_{3} - A_{2} \\psi_{0} - A_{3} \\psi_{1} + m \\psi_{6} - \\partial_{0} \\psi_{5} - \\partial_{1} \\psi_{0} - \\partial_{2} \\psi_{3} + \\partial_{3} \\psi_{2}$"
      ],
      "text/plain": [
       "<IPython.core.display.Math object>"
      ]
     },
     "metadata": {},
     "output_type": "display_data"
    },
    {
     "data": {
      "text/latex": [
       "$\\displaystyle 0=A_{0} \\psi_{3} + A_{1} \\psi_{6} - A_{2} \\psi_{5} - A_{3} \\psi_{4} - m \\psi_{3} + \\partial_{0} \\psi_{0} + \\partial_{1} \\psi_{5} + \\partial_{2} \\psi_{6} + \\partial_{3} \\psi_{7}$"
      ],
      "text/plain": [
       "<IPython.core.display.Math object>"
      ]
     },
     "metadata": {},
     "output_type": "display_data"
    },
    {
     "data": {
      "text/latex": [
       "$\\displaystyle 0=A_{0} \\psi_{1} - A_{1} \\psi_{4} + A_{2} \\psi_{7} - A_{3} \\psi_{6} - m \\psi_{1} + \\partial_{0} \\psi_{2} + \\partial_{1} \\psi_{7} + \\partial_{2} \\psi_{4} - \\partial_{3} \\psi_{5}$"
      ],
      "text/plain": [
       "<IPython.core.display.Math object>"
      ]
     },
     "metadata": {},
     "output_type": "display_data"
    },
    {
     "data": {
      "text/latex": [
       "$\\displaystyle 0=- A_{0} \\psi_{7} + A_{1} \\psi_{2} - A_{2} \\psi_{1} + A_{3} \\psi_{0} - m \\psi_{7} + \\partial_{0} \\psi_{4} + \\partial_{1} \\psi_{1} + \\partial_{2} \\psi_{2} + \\partial_{3} \\psi_{3}$"
      ],
      "text/plain": [
       "<IPython.core.display.Math object>"
      ]
     },
     "metadata": {},
     "output_type": "display_data"
    },
    {
     "data": {
      "text/latex": [
       "$\\displaystyle 0=- A_{0} \\psi_{5} + A_{1} \\psi_{0} + A_{2} \\psi_{3} - A_{3} \\psi_{2} - m \\psi_{5} - \\partial_{0} \\psi_{6} + \\partial_{1} \\psi_{3} - \\partial_{2} \\psi_{0} - \\partial_{3} \\psi_{1}$"
      ],
      "text/plain": [
       "<IPython.core.display.Math object>"
      ]
     },
     "metadata": {},
     "output_type": "display_data"
    },
    {
     "data": {
      "text/latex": [
       "$\\displaystyle 0=A_{0} \\psi_{0} - A_{1} \\psi_{5} - A_{2} \\psi_{6} - A_{3} \\psi_{7} - m \\psi_{0} - \\partial_{0} \\psi_{3} + \\partial_{1} \\psi_{6} - \\partial_{2} \\psi_{5} - \\partial_{3} \\psi_{4}$"
      ],
      "text/plain": [
       "<IPython.core.display.Math object>"
      ]
     },
     "metadata": {},
     "output_type": "display_data"
    },
    {
     "data": {
      "text/latex": [
       "$\\displaystyle 0=A_{0} \\psi_{2} - A_{1} \\psi_{7} - A_{2} \\psi_{4} + A_{3} \\psi_{5} - m \\psi_{2} - \\partial_{0} \\psi_{1} - \\partial_{1} \\psi_{4} + \\partial_{2} \\psi_{7} - \\partial_{3} \\psi_{6}$"
      ],
      "text/plain": [
       "<IPython.core.display.Math object>"
      ]
     },
     "metadata": {},
     "output_type": "display_data"
    }
   ],
   "source": [
    "dee_slash = dee[0]*γ[0] + dee[1]*γ[1] + dee[2]*γ[2] + dee[3]*γ[3]\n",
    "A_slash = γ[0]*A[0] - γ[1]*A[1] - γ[2]*A[2] - γ[3]*A[3]\n",
    "\n",
    "Dirac_op = i*(dee_slash + i*A_slash) - m_mass*syp.eye(4)\n",
    "\n",
    "Dirac_eq_complex = Dirac_op @ ψ_mat_dirac\n",
    "\n",
    "# Dirac_eq = syp.Matrix(\n",
    "    # list(syp.re(Dirac_op @ ψ_mat_dirac)) + \\\n",
    "    # list(syp.im(Dirac_op @ ψ_mat_dirac))\n",
    "# )\n",
    "\n",
    "Dirac_eq_re = (Dirac_eq_complex + syp.conjugate(Dirac_eq_complex))/2\n",
    "for n in range(4):\n",
    "    Dirac_eq_re = Dirac_eq_re.subs(syp.conjugate(dee[n]), dee[n])\n",
    "    Dirac_eq_re = Dirac_eq_re.subs(syp.conjugate(ψ[n]), ψ[n])\n",
    "    Dirac_eq_re = Dirac_eq_re.subs(syp.conjugate(ψ[4+n]), ψ[4+n])\n",
    "\n",
    "Dirac_eq_im = (Dirac_eq_complex - syp.conjugate(Dirac_eq_complex))/(2*i)\n",
    "for n in range(4):\n",
    "    Dirac_eq_im = Dirac_eq_im.subs(syp.conjugate(dee[n]), dee[n])\n",
    "    Dirac_eq_im = Dirac_eq_im.subs(syp.conjugate(ψ[n]), ψ[n])\n",
    "    Dirac_eq_im = Dirac_eq_im.subs(syp.conjugate(ψ[4+n]), ψ[4+n])\n",
    "Dirac_eq_re = syp.expand(Dirac_eq_re)\n",
    "Dirac_eq_im = syp.expand(Dirac_eq_im)\n",
    "# display(syp.expand(Dirac_eq_re))\n",
    "\n",
    "Dirac_eq = syp.Matrix(\n",
    "    list(Dirac_eq_re) + \\\n",
    "    list(Dirac_eq_im)\n",
    ")\n",
    "# display(Dirac_eq)\n",
    "dispmath(r'\\text{Dirac equation component wise is:}')\n",
    "for entry in Dirac_eq:\n",
    "    dispmath(r'0=' + tex(entry))"
   ]
  },
  {
   "cell_type": "markdown",
   "id": "6ba9a94f-269a-4678-8d01-c2ddc073479e",
   "metadata": {
    "tags": []
   },
   "source": [
    "## Split octonionic Dirac equation\n",
    "\n",
    "Split octonionic dirac equation for the case when $A = 0$ is simply\n",
    "\n",
    "\\begin{equation}  \\left(\\nabla-J_{3}m\\right)\\psi=0 \\end{equation} \n",
    "\n",
    "where\n",
    "\n",
    "\\begin{equation} \\nabla=I\\partial_{0}-\\sum_{n=1}^{3}j_{n}\\partial_{n}, \\end{equation}\n",
    "\n",
    "\\begin{equation} \\psi=\\psi_{0}+I\\psi_{4}+\\sum_{n=1}^{3}\\left(j_{n}\\psi_{n}+J_{n}\\psi_{4+n}\\right). \\end{equation}\n",
    "\n",
    "With external four-potential\n",
    "\n",
    "\\begin{equation} A=IA_{0}+\\sum_{n=1}^{3}j_{n}A_{n} \\end{equation}\n",
    "\n",
    "equation is\n",
    "\n",
    "\\begin{equation} \\left(\\nabla-J_{3}m\\right)\\psi=J_{3}\\left(\\mathrm{conj}_{Ij}\\left(A\\psi\\right)I\\right). \\end{equation}\n",
    "\n",
    "Code below checks if this equation is indeed same as regular Dirac equation written with matrices."
   ]
  },
  {
   "cell_type": "code",
   "execution_count": 7,
   "id": "78679286-e5de-4b28-b8e5-732bf04439c6",
   "metadata": {},
   "outputs": [
    {
     "data": {
      "text/latex": [
       "$\\displaystyle \\text{Split octonionic equation component wise is:}$"
      ],
      "text/plain": [
       "<IPython.core.display.Math object>"
      ]
     },
     "metadata": {},
     "output_type": "display_data"
    },
    {
     "data": {
      "text/latex": [
       "$\\displaystyle 0=- A_{0} \\psi_{7} + A_{1} \\psi_{2} - A_{2} \\psi_{1} + A_{3} \\psi_{0} - m \\psi_{7} + \\partial_{0} \\psi_{4} + \\partial_{1} \\psi_{1} + \\partial_{2} \\psi_{2} + \\partial_{3} \\psi_{3}$"
      ],
      "text/plain": [
       "<IPython.core.display.Math object>"
      ]
     },
     "metadata": {},
     "output_type": "display_data"
    },
    {
     "data": {
      "text/latex": [
       "$\\displaystyle 0=A_{0} \\psi_{6} + A_{1} \\psi_{3} - A_{2} \\psi_{0} - A_{3} \\psi_{1} + m \\psi_{6} - \\partial_{0} \\psi_{5} - \\partial_{1} \\psi_{0} - \\partial_{2} \\psi_{3} + \\partial_{3} \\psi_{2}$"
      ],
      "text/plain": [
       "<IPython.core.display.Math object>"
      ]
     },
     "metadata": {},
     "output_type": "display_data"
    },
    {
     "data": {
      "text/latex": [
       "$\\displaystyle 0=- A_{0} \\psi_{5} + A_{1} \\psi_{0} + A_{2} \\psi_{3} - A_{3} \\psi_{2} - m \\psi_{5} - \\partial_{0} \\psi_{6} + \\partial_{1} \\psi_{3} - \\partial_{2} \\psi_{0} - \\partial_{3} \\psi_{1}$"
      ],
      "text/plain": [
       "<IPython.core.display.Math object>"
      ]
     },
     "metadata": {},
     "output_type": "display_data"
    },
    {
     "data": {
      "text/latex": [
       "$\\displaystyle 0=- A_{0} \\psi_{4} + A_{1} \\psi_{1} + A_{2} \\psi_{2} + A_{3} \\psi_{3} - m \\psi_{4} - \\partial_{0} \\psi_{7} - \\partial_{1} \\psi_{2} + \\partial_{2} \\psi_{1} - \\partial_{3} \\psi_{0}$"
      ],
      "text/plain": [
       "<IPython.core.display.Math object>"
      ]
     },
     "metadata": {},
     "output_type": "display_data"
    },
    {
     "data": {
      "text/latex": [
       "$\\displaystyle 0=A_{0} \\psi_{3} + A_{1} \\psi_{6} - A_{2} \\psi_{5} - A_{3} \\psi_{4} - m \\psi_{3} + \\partial_{0} \\psi_{0} + \\partial_{1} \\psi_{5} + \\partial_{2} \\psi_{6} + \\partial_{3} \\psi_{7}$"
      ],
      "text/plain": [
       "<IPython.core.display.Math object>"
      ]
     },
     "metadata": {},
     "output_type": "display_data"
    },
    {
     "data": {
      "text/latex": [
       "$\\displaystyle 0=A_{0} \\psi_{2} - A_{1} \\psi_{7} - A_{2} \\psi_{4} + A_{3} \\psi_{5} - m \\psi_{2} - \\partial_{0} \\psi_{1} - \\partial_{1} \\psi_{4} + \\partial_{2} \\psi_{7} - \\partial_{3} \\psi_{6}$"
      ],
      "text/plain": [
       "<IPython.core.display.Math object>"
      ]
     },
     "metadata": {},
     "output_type": "display_data"
    },
    {
     "data": {
      "text/latex": [
       "$\\displaystyle 0=- A_{0} \\psi_{1} + A_{1} \\psi_{4} - A_{2} \\psi_{7} + A_{3} \\psi_{6} + m \\psi_{1} - \\partial_{0} \\psi_{2} - \\partial_{1} \\psi_{7} - \\partial_{2} \\psi_{4} + \\partial_{3} \\psi_{5}$"
      ],
      "text/plain": [
       "<IPython.core.display.Math object>"
      ]
     },
     "metadata": {},
     "output_type": "display_data"
    },
    {
     "data": {
      "text/latex": [
       "$\\displaystyle 0=A_{0} \\psi_{0} - A_{1} \\psi_{5} - A_{2} \\psi_{6} - A_{3} \\psi_{7} - m \\psi_{0} - \\partial_{0} \\psi_{3} + \\partial_{1} \\psi_{6} - \\partial_{2} \\psi_{5} - \\partial_{3} \\psi_{4}$"
      ],
      "text/plain": [
       "<IPython.core.display.Math object>"
      ]
     },
     "metadata": {},
     "output_type": "display_data"
    },
    {
     "data": {
      "text/latex": [
       "$\\displaystyle \\text{Equation ordering based on the matching of } \\partial_1 \\text{ term between split octonionic and matrix versions: }$"
      ],
      "text/plain": [
       "<IPython.core.display.Math object>"
      ]
     },
     "metadata": {},
     "output_type": "display_data"
    },
    {
     "data": {
      "image/png": "[encoded data removed]",
      "text/latex": [
       "$\\displaystyle \\left[ 4, \\  1, \\  5, \\  0, \\  2, \\  7, \\  -3, \\  6\\right]$"
      ],
      "text/plain": [
       "[4, 1, 5, 0, 2, 7, -3, 6]"
      ]
     },
     "metadata": {},
     "output_type": "display_data"
    },
    {
     "name": "stdout",
     "output_type": "stream",
     "text": [
      "(Sign is overall sign difference of the equation)\n"
     ]
    },
    {
     "data": {
      "text/latex": [
       "$\\displaystyle \\text{Difference between split octonionic and matrix version of Dirac equation:}$"
      ],
      "text/plain": [
       "<IPython.core.display.Math object>"
      ]
     },
     "metadata": {},
     "output_type": "display_data"
    },
    {
     "data": {
      "image/png": "[encoded data removed]",
      "text/latex": [
       "$\\displaystyle \\left[\\begin{matrix}0\\\\0\\\\0\\\\0\\\\0\\\\0\\\\0\\\\0\\end{matrix}\\right]$"
      ],
      "text/plain": [
       "⎡0⎤\n",
       "⎢ ⎥\n",
       "⎢0⎥\n",
       "⎢ ⎥\n",
       "⎢0⎥\n",
       "⎢ ⎥\n",
       "⎢0⎥\n",
       "⎢ ⎥\n",
       "⎢0⎥\n",
       "⎢ ⎥\n",
       "⎢0⎥\n",
       "⎢ ⎥\n",
       "⎢0⎥\n",
       "⎢ ⎥\n",
       "⎣0⎦"
      ]
     },
     "metadata": {},
     "output_type": "display_data"
    },
    {
     "name": "stdout",
     "output_type": "stream",
     "text": [
      "(Should be zeros if equations match up)\n"
     ]
    }
   ],
   "source": [
    "ψ_oct_dirac = SplitOctonion(ψ)\n",
    "\n",
    "Nabla_oct = - j1*dee[1] - j2*dee[2] - j3*dee[3] + oI*dee[0]\n",
    "\n",
    "A_oct = SplitOctonion([0, A[1], A[2], A[3], A[0], 0, 0, 0])\n",
    "\n",
    "# ----------- old code, should probably be deleted ------------\n",
    "#Dir = Nabla_oct + J3*m_mass\n",
    "#Eq = (A*Psi).conj_j() - J3*(I*(Dir*Psi))\n",
    "#Eq = (J3*(J2*(J1*(A*Psi)*J1)*J2)*J3)*I + J3*(Dir*Psi)\n",
    "#Eq = I*(A*Psi).conj_j() + J3*(Dir*Psi)\n",
    "#Eq = Nabla_oct*ψ_oct_dirac + J3*m_mass*ψ_oct_dirac - J3*(oI*(A_oct*ψ_oct_dirac).conj_J().conj_I())\n",
    "#Eq = Nabla_oct*ψ_oct_dirac + J3*m_mass*ψ_oct_dirac - J3*((J3*(J2*(J1*(A_oct*ψ_oct_dirac)*J1)*J2)*J3)*oI)\n",
    "# Eq = J3*(Nabla_oct*ψ_oct_dirac) - m_mass*ψ_oct_dirac - (A_oct*ψ_oct_dirac).conj_I().conj_j()*oI\n",
    "#Eq = J3*(Nabla_oct*ψ_oct_dirac) - m_mass*ψ_oct_dirac\n",
    "# -------------------------------------------------------------\n",
    "\n",
    "Eq = (Nabla_oct - J3*m_mass)*ψ_oct_dirac - J3*((A_oct*ψ_oct_dirac).conj_I().conj_j()*oI)\n",
    "\n",
    "\n",
    "OctEq = syp.Matrix(Eq.x)\n",
    "\n",
    "dispmath(r'\\text{Split octonionic equation component wise is:}')\n",
    "for entry in Eq:\n",
    "    dispmath(r'0=' + tex(entry))\n",
    "\n",
    "def _compare_equation_systems():\n",
    "    R = []\n",
    "    N = []\n",
    "    for m in range(8):\n",
    "        for n in range(8):\n",
    "            if abs(syp.diff(OctEq[m], dee[1])) == abs(syp.diff(Dirac_eq[n], dee[1])):\n",
    "\n",
    "                if syp.diff(OctEq[m], dee[1]) == syp.diff(Dirac_eq[n], dee[1]):\n",
    "                    R.append(OctEq[m] - Dirac_eq[n])\n",
    "                    N.append(n)\n",
    "                else:\n",
    "                    R.append(OctEq[m] + Dirac_eq[n])\n",
    "                    N.append(-n)\n",
    "                break\n",
    "    R = syp.Matrix(R)\n",
    "    \n",
    "    dispmath(r'\\text{Equation ordering based on the matching of } \\partial_1 \\text{ term between split octonionic and matrix versions: }')\n",
    "    display(N)\n",
    "    print('(Sign is overall sign difference of the equation)')\n",
    "    dispmath(r'\\text{Difference between split octonionic and matrix version of Dirac equation:}')\n",
    "    display(R)\n",
    "    print('(Should be zeros if equations match up)')\n",
    "\n",
    "_compare_equation_systems() # should be zeros if they are the same same"
   ]
  },
  {
   "cell_type": "markdown",
   "id": "702d85bd-7c49-493c-bc86-2be3b70ebff2",
   "metadata": {},
   "source": [
    "## Dirac Lagrangian\n",
    "\n",
    "In matrix algebra the free Dirac Lagrangian is\n",
    "\n",
    "\\begin{equation} \\mathcal{L}_{\\text{matrix}}=\\overline{\\psi}\\left(i\\gamma^{\\mu}\\partial_{\\mu}-m\\right)\\psi . \\end{equation}\n",
    "\n",
    "With split octonions \n",
    "\n",
    "\\begin{equation} \\begin{aligned}\\mathcal{L}_{\\mathbb{O}^{\\prime}} & =\\left\\langle J_{3}\\psi,\\left(\\nabla-mJ_{3}\\right)\\psi\\right\\rangle \\\\\n",
    " & =\\left\\langle J_{3}\\psi,\\nabla\\psi\\right\\rangle +m\\left\\langle \\psi,\\psi\\right\\rangle \n",
    "\\end{aligned} \\end{equation}\n",
    "\n",
    "where $ \\left\\langle \\cdot,\\cdot\\right\\rangle :\\mathbb{O}^{\\prime}\\times\\mathbb{O}^{\\prime}\\rightarrow\\mathbb{R} $ is a symmetric nondegenerate bilinear form:\n",
    "\n",
    "\\begin{equation} \\begin{aligned}\\left\\langle x,y\\right\\rangle  & =\\frac{1}{2}\\left(\\overline{x}y+\\overline{y}x\\right)\\\\\n",
    " & =\\sum_{n=0}^{3}\\left(x_{n}y_{n}-x_{4+n}y_{4+n}\\right).\n",
    "\\end{aligned} \\end{equation}\n",
    "\n",
    "\n",
    "\n",
    "\n",
    "Code cells below check the proposition $\\mathcal{L}_{\\text{matrix}} = \\mathcal{L}_{\\mathbb{O}^{\\prime}} $.\n"
   ]
  },
  {
   "cell_type": "code",
   "execution_count": 8,
   "id": "39974642-d98f-4bb2-aa28-c120cfe6d13d",
   "metadata": {},
   "outputs": [
    {
     "data": {
      "text/latex": [
       "$\\displaystyle \\psi=\\left[\\begin{matrix}\\psi_{4} + i \\psi_{7}\\\\i \\psi_{5} - \\psi_{6}\\\\i \\psi_{0} + \\psi_{3}\\\\\\psi_{1} + i \\psi_{2}\\end{matrix}\\right]$"
      ],
      "text/plain": [
       "<IPython.core.display.Math object>"
      ]
     },
     "metadata": {},
     "output_type": "display_data"
    },
    {
     "data": {
      "text/latex": [
       "$\\displaystyle \\overline{\\psi} = \\psi^\\dagger \\gamma^0=\\left[\\begin{matrix}\\psi_{4} - i \\psi_{7} & - i \\psi_{5} - \\psi_{6} & i \\psi_{0} - \\psi_{3} & - \\psi_{1} + i \\psi_{2}\\end{matrix}\\right]$"
      ],
      "text/plain": [
       "<IPython.core.display.Math object>"
      ]
     },
     "metadata": {},
     "output_type": "display_data"
    }
   ],
   "source": [
    "ψ_bar_mat_dirac = sypHermConj(ψ_mat_dirac) @ γ[0]\n",
    "for n in range(4):\n",
    "    ψ_bar_mat_dirac = ψ_bar_mat_dirac.subs(syp.conjugate(ψ[n]), ψ[n])\n",
    "    ψ_bar_mat_dirac = ψ_bar_mat_dirac.subs(syp.conjugate(ψ[4+n]), ψ[4+n])\n",
    "ψ_bar_mat_dirac = syp.expand(ψ_bar_mat_dirac)\n",
    "dispmath(r'\\psi=' + tex(ψ_mat_dirac) )\n",
    "dispmath(r'\\overline{\\psi} = \\psi^\\dagger \\gamma^0='+ tex(ψ_bar_mat_dirac))"
   ]
  },
  {
   "cell_type": "code",
   "execution_count": 9,
   "id": "1052225c-1710-44b7-82c9-57b16588076a",
   "metadata": {},
   "outputs": [
    {
     "data": {
      "text/latex": [
       "$\\displaystyle \\mathcal{L}_\\text{matrix}=m \\psi_{0}^{2} + m \\psi_{1}^{2} + m \\psi_{2}^{2} + m \\psi_{3}^{2} - m \\psi_{4}^{2} - m \\psi_{5}^{2} - m \\psi_{6}^{2} - m \\psi_{7}^{2} + \\psi_{0} \\partial_{0} \\psi_{3} - \\psi_{0} \\partial_{1} \\psi_{6} + \\psi_{0} \\partial_{2} \\psi_{5} + \\psi_{0} \\partial_{3} \\psi_{4} - \\psi_{1} \\partial_{0} \\psi_{2} - \\psi_{1} \\partial_{1} \\psi_{7} - \\psi_{1} \\partial_{2} \\psi_{4} + \\psi_{1} \\partial_{3} \\psi_{5} + \\psi_{2} \\partial_{0} \\psi_{1} + \\psi_{2} \\partial_{1} \\psi_{4} - \\psi_{2} \\partial_{2} \\psi_{7} + \\psi_{2} \\partial_{3} \\psi_{6} - \\psi_{3} \\partial_{0} \\psi_{0} - \\psi_{3} \\partial_{1} \\psi_{5} - \\psi_{3} \\partial_{2} \\psi_{6} - \\psi_{3} \\partial_{3} \\psi_{7} - \\psi_{4} \\partial_{0} \\psi_{7} - \\psi_{4} \\partial_{1} \\psi_{2} + \\psi_{4} \\partial_{2} \\psi_{1} - \\psi_{4} \\partial_{3} \\psi_{0} - \\psi_{5} \\partial_{0} \\psi_{6} + \\psi_{5} \\partial_{1} \\psi_{3} - \\psi_{5} \\partial_{2} \\psi_{0} - \\psi_{5} \\partial_{3} \\psi_{1} + \\psi_{6} \\partial_{0} \\psi_{5} + \\psi_{6} \\partial_{1} \\psi_{0} + \\psi_{6} \\partial_{2} \\psi_{3} - \\psi_{6} \\partial_{3} \\psi_{2} + \\psi_{7} \\partial_{0} \\psi_{4} + \\psi_{7} \\partial_{1} \\psi_{1} + \\psi_{7} \\partial_{2} \\psi_{2} + \\psi_{7} \\partial_{3} \\psi_{3}$"
      ],
      "text/plain": [
       "<IPython.core.display.Math object>"
      ]
     },
     "metadata": {},
     "output_type": "display_data"
    },
    {
     "name": "stdout",
     "output_type": "stream",
     "text": [
      "\n",
      "Number of terms: 40\n"
     ]
    }
   ],
   "source": [
    "dirac_lagrangian = syp.simplify(syp.expand(ψ_bar_mat_dirac @ Dirac_op @ ψ_mat_dirac)[0])\n",
    "for n in range(4):\n",
    "    dirac_lagrangian = dirac_lagrangian.subs(A[n], 0)\n",
    "#     for b in ψ:\n",
    "#         dirac_lagrangian.subs(a*b, b*a)\n",
    "\n",
    "for n in range(8):\n",
    "    for m in range(n+1, 8):\n",
    "        dirac_lagrangian = dirac_lagrangian.subs(ψ[m]*ψ[n], ψ[n]*ψ[m])\n",
    "\n",
    "dirac_lagrangian = (dirac_lagrangian + dirac_lagrangian.conjugate())/2\n",
    "for n in range(8):\n",
    "    dirac_lagrangian = dirac_lagrangian.subs(syp.conjugate(ψ[n]), ψ[n])\n",
    "for n in range(4):\n",
    "    dirac_lagrangian = dirac_lagrangian.subs(syp.conjugate(dee[n]), dee[n])\n",
    "dirac_lagrangian = syp.simplify(dirac_lagrangian)\n",
    "\n",
    "# dirac_lagrangian = dirac_lagrangian.subs(m_mass, 0)\n",
    "dispmath(r'\\mathcal{L}_\\text{matrix}=' + tex(dirac_lagrangian))\n",
    "print()\n",
    "print('Number of terms:', len(dirac_lagrangian.args))"
   ]
  },
  {
   "cell_type": "code",
   "execution_count": 10,
   "id": "db7a1427-3808-4ce4-aba8-da5b75ae57cc",
   "metadata": {},
   "outputs": [
    {
     "data": {
      "text/latex": [
       "$\\displaystyle \\mathcal{L}_{\\mathbb{O}^\\prime} = m \\psi_{0}^{2} + m \\psi_{1}^{2} + m \\psi_{2}^{2} + m \\psi_{3}^{2} - m \\psi_{4}^{2} - m \\psi_{5}^{2} - m \\psi_{6}^{2} - m \\psi_{7}^{2} + \\psi_{0} \\partial_{0} \\psi_{3} - \\psi_{0} \\partial_{1} \\psi_{6} + \\psi_{0} \\partial_{2} \\psi_{5} + \\psi_{0} \\partial_{3} \\psi_{4} - \\psi_{1} \\partial_{0} \\psi_{2} - \\psi_{1} \\partial_{1} \\psi_{7} - \\psi_{1} \\partial_{2} \\psi_{4} + \\psi_{1} \\partial_{3} \\psi_{5} + \\psi_{2} \\partial_{0} \\psi_{1} + \\psi_{2} \\partial_{1} \\psi_{4} - \\psi_{2} \\partial_{2} \\psi_{7} + \\psi_{2} \\partial_{3} \\psi_{6} - \\psi_{3} \\partial_{0} \\psi_{0} - \\psi_{3} \\partial_{1} \\psi_{5} - \\psi_{3} \\partial_{2} \\psi_{6} - \\psi_{3} \\partial_{3} \\psi_{7} - \\psi_{4} \\partial_{0} \\psi_{7} - \\psi_{4} \\partial_{1} \\psi_{2} + \\psi_{4} \\partial_{2} \\psi_{1} - \\psi_{4} \\partial_{3} \\psi_{0} - \\psi_{5} \\partial_{0} \\psi_{6} + \\psi_{5} \\partial_{1} \\psi_{3} - \\psi_{5} \\partial_{2} \\psi_{0} - \\psi_{5} \\partial_{3} \\psi_{1} + \\psi_{6} \\partial_{0} \\psi_{5} + \\psi_{6} \\partial_{1} \\psi_{0} + \\psi_{6} \\partial_{2} \\psi_{3} - \\psi_{6} \\partial_{3} \\psi_{2} + \\psi_{7} \\partial_{0} \\psi_{4} + \\psi_{7} \\partial_{1} \\psi_{1} + \\psi_{7} \\partial_{2} \\psi_{2} + \\psi_{7} \\partial_{3} \\psi_{3}$"
      ],
      "text/plain": [
       "<IPython.core.display.Math object>"
      ]
     },
     "metadata": {},
     "output_type": "display_data"
    },
    {
     "name": "stdout",
     "output_type": "stream",
     "text": [
      "\n",
      "Number of terms: 40\n"
     ]
    }
   ],
   "source": [
    "L_oct = syp.expand( (J3*ψ_oct_dirac).dot((Nabla_oct - m_mass*J3)  * ψ_oct_dirac) )\n",
    "dispmath(r'\\mathcal{L}_{\\mathbb{O}^\\prime} = ' + tex(L_oct))\n",
    "print()\n",
    "print('Number of terms:', len(L_oct.args))"
   ]
  },
  {
   "cell_type": "code",
   "execution_count": 11,
   "id": "d73270ff-e8f7-41b3-a48f-b1e2e9ac77e3",
   "metadata": {},
   "outputs": [
    {
     "data": {
      "text/latex": [
       "$\\displaystyle \\mathcal{L}_\\text{matrix} - \\mathcal{L}_{\\mathbb{O}^\\prime} = 0$"
      ],
      "text/plain": [
       "<IPython.core.display.Math object>"
      ]
     },
     "metadata": {},
     "output_type": "display_data"
    }
   ],
   "source": [
    "dispmath(r'\\mathcal{L}_\\text{matrix} - \\mathcal{L}_{\\mathbb{O}^\\prime} = ' + tex(dirac_lagrangian - L_oct))"
   ]
  },
  {
   "cell_type": "code",
   "execution_count": 12,
   "id": "6c085871-42f5-463b-850b-b543b0ea9fce",
   "metadata": {},
   "outputs": [
    {
     "data": {
      "text/latex": [
       "$\\displaystyle \\text{Comparing different version of split octonionic Lagrangian.}$"
      ],
      "text/plain": [
       "<IPython.core.display.Math object>"
      ]
     },
     "metadata": {},
     "output_type": "display_data"
    },
    {
     "data": {
      "text/latex": [
       "$\\displaystyle \\text{Difference between } \\mathcal{L} = \\left\\langle J_{3}\\psi,\\nabla\\psi\\right\\rangle +m\\left\\langle \\psi,\\psi\\right\\rangle\n",
       "\\text{ and } \\mathcal{L} = \\left\\langle J_{3}\\psi,\\left(\\nabla-mJ_{3}\\right)\\psi\\right\\rangle \\text{ is: }0$"
      ],
      "text/plain": [
       "<IPython.core.display.Math object>"
      ]
     },
     "metadata": {},
     "output_type": "display_data"
    },
    {
     "data": {
      "text/latex": [
       "$\\displaystyle \\text{Difference between } \\mathcal{L} = -\\left\\langle \\psi,J_{3}\\left(\\left(\\nabla-mJ_{3}\\right)\\psi\\right)\\right\\rangle\n",
       "\\text{ and } \\mathcal{L} = \\left\\langle J_{3}\\psi,\\left(\\nabla-mJ_{3}\\right)\\psi\\right\\rangle \\text{ is: }0$"
      ],
      "text/plain": [
       "<IPython.core.display.Math object>"
      ]
     },
     "metadata": {},
     "output_type": "display_data"
    }
   ],
   "source": [
    "L_oct2 = syp.expand( (J3*ψ_oct_dirac).dot(Nabla_oct*ψ_oct_dirac) + m_mass*ψ_oct_dirac.dot(ψ_oct_dirac))\n",
    "L_oct3 = -syp.expand( (ψ_oct_dirac).dot(J3*((Nabla_oct - m_mass*J3)  * ψ_oct_dirac)) )\n",
    "\n",
    "dispmath(r'\\text{Comparing different version of split octonionic Lagrangian.}')\n",
    "dispmath(r'''\\text{Difference between } \\mathcal{L} = \\left\\langle J_{3}\\psi,\\nabla\\psi\\right\\rangle +m\\left\\langle \\psi,\\psi\\right\\rangle\n",
    "\\text{ and } \\mathcal{L} = \\left\\langle J_{3}\\psi,\\left(\\nabla-mJ_{3}\\right)\\psi\\right\\rangle \\text{ is: }''' + tex(L_oct - L_oct2))\n",
    "dispmath(r'''\\text{Difference between } \\mathcal{L} = -\\left\\langle \\psi,J_{3}\\left(\\left(\\nabla-mJ_{3}\\right)\\psi\\right)\\right\\rangle\n",
    "\\text{ and } \\mathcal{L} = \\left\\langle J_{3}\\psi,\\left(\\nabla-mJ_{3}\\right)\\psi\\right\\rangle \\text{ is: }''' + tex(L_oct - L_oct2))"
   ]
  },
  {
   "cell_type": "code",
   "execution_count": null,
   "id": "f0fb7157-da93-42a3-b175-2b49b85a94f1",
   "metadata": {},
   "outputs": [],
   "source": []
  },
  {
   "cell_type": "code",
   "execution_count": null,
   "id": "94f02e0e-21fb-4006-9ec6-7eff12706f2a",
   "metadata": {},
   "outputs": [],
   "source": []
  }
 ],
 "metadata": {
  "kernelspec": {
   "display_name": "Python 3 (ipykernel)",
   "language": "python",
   "name": "python3"
  },
  "language_info": {
   "codemirror_mode": {
    "name": "ipython",
    "version": 3
   },
   "file_extension": ".py",
   "mimetype": "text/x-python",
   "name": "python",
   "nbconvert_exporter": "python",
   "pygments_lexer": "ipython3",
   "version": "3.10.10"
  }
 },
 "nbformat": 4,
 "nbformat_minor": 5
}
