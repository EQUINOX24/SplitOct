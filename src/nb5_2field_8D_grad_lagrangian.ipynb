{
 "cells": [
  {
   "cell_type": "markdown",
   "id": "6ff4a580-c47b-4e49-b038-114a4f500fe1",
   "metadata": {},
   "source": [
    "<span style=\"color:green\">\n",
    "    \n",
    "># Full and general Lagrangian\n",
    "\n",
    ">In this notebook the following Lagrangian\n",
    "\n",
    "\\begin{equation}\n",
    "\\mathcal{L} = \\left\\langle \\overline{\\phi},\\partial\\psi\\right\\rangle +\\frac{\\lambda_{1}}{2}\\left\\langle \\phi,\\phi\\right\\rangle +\\frac{\\lambda_{2}}{2}\\left\\langle \\psi,\\psi\\right\\rangle\n",
    "\\end{equation}\n",
    "\n",
    ">is stationarized and it is shown that equations of motion are\n",
    "\n",
    "\\begin{equation}\n",
    "\\left\\{ \\begin{aligned}\\overrightarrow{\\overline{\\partial}}\\thinspace\\overline{\\phi}= & \\lambda_{2}\\psi\\\\\n",
    "\\overrightarrow{\\partial}\\psi= & -\\lambda_{1}\\overline{\\phi}\n",
    "\\end{aligned}\n",
    "\\right.\n",
    "\\end{equation}\n",
    "\n",
    "</span>"
   ]
  },
  {
   "cell_type": "code",
   "execution_count": 1,
   "id": "70319549-f3e9-4819-9456-66b0c70be818",
   "metadata": {
    "tags": []
   },
   "outputs": [
    {
     "name": "stdout",
     "output_type": "stream",
     "text": [
      "python     : 3.11.3 (main, Jun  5 2023, 09:32:32) [GCC 13.1.1 20230429]\n",
      "sympy      : 1.12\n",
      "SplitOct   : 0.15\n",
      "\n",
      "Selected Jupyter core packages...\n",
      "IPython          : 8.14.0\n",
      "ipykernel        : 6.25.0\n",
      "ipywidgets       : 8.1.0\n",
      "jupyter_client   : 8.3.0\n",
      "jupyter_core     : 5.3.1\n",
      "jupyter_server   : 2.7.0\n",
      "jupyterlab       : 4.0.4\n",
      "nbclient         : 0.8.0\n",
      "nbconvert        : 7.7.3\n",
      "nbformat         : 5.9.2\n",
      "notebook         : 7.0.2\n",
      "qtconsole        : not installed\n",
      "traitlets        : 5.9.0\n"
     ]
    }
   ],
   "source": [
    "import sympy as syp\n",
    "from IPython.display import Math as displayMath\n",
    "from SplitOct import *\n",
    "syp.init_printing(use_unicode=True)\n",
    "# from copy import copy\n",
    "# import numpy as np\n",
    "\n",
    "import sys\n",
    "print('python     :', sys.version)\n",
    "print('sympy      :', syp.__version__)\n",
    "print('SplitOct   :', version())\n",
    "# print('numpy      :', np.__version__)\n",
    "print()\n",
    "!jupyter --version"
   ]
  },
  {
   "cell_type": "code",
   "execution_count": 2,
   "id": "0668a471-d016-4497-83c3-6bc1545ae8ae",
   "metadata": {},
   "outputs": [],
   "source": [
    "# useful functions and shortcuts\n",
    "dispmath = lambda x: display(displayMath(x))\n",
    "def tex(inputobj):\n",
    "    if type(inputobj) == SplitOctonion:\n",
    "        return inputobj.__repr__()\n",
    "    else:\n",
    "        return syp.latex(inputobj)\n",
    "\n",
    "def prod(x):\n",
    "    y = 1\n",
    "    for x_n in x:\n",
    "        y = y * x_n\n",
    "    return y\n",
    "\n",
    "def swap_vars(factors, m, n):\n",
    "        a = factors[m]\n",
    "        b = factors[n]\n",
    "        factors[m] = b\n",
    "        factors[n] = a\n",
    "        return factors\n",
    "\n",
    "def symbolic_SplitOctonion(varname, commutative=True):\n",
    "    symbolvec = 8 * [None]\n",
    "    for n in range(8):\n",
    "        name = varname + f'_{n}'\n",
    "        if commutative:\n",
    "            symbolvec[n] = syp.symbols(name, commutative=True, real=True)\n",
    "        else:\n",
    "            symbolvec[n] = syp.symbols(name, commutative=False)\n",
    "    return SplitOctonion(symbolvec)"
   ]
  },
  {
   "cell_type": "code",
   "execution_count": 3,
   "id": "14ff1ebe-efc9-499c-a50e-b1f521d9d85c",
   "metadata": {},
   "outputs": [],
   "source": [
    "λ_1 = syp.symbols('lambda_1', real=True)\n",
    "λ_2 = syp.symbols('lambda_2', real=True)\n",
    "ε = syp.symbols('varepsilon', real=True)\n",
    "ϕ = symbolic_SplitOctonion('phi', commutative=False)\n",
    "ψ = symbolic_SplitOctonion('psi', commutative=False)\n",
    "ξ = symbolic_SplitOctonion('xi', commutative=False)\n",
    "η = symbolic_SplitOctonion('eta', commutative=False)\n",
    "dee = syp.Rational(1,2)*symbolic_SplitOctonion('\\partial', commutative=False)"
   ]
  },
  {
   "cell_type": "code",
   "execution_count": 4,
   "id": "9afcd52b-8c86-4185-bda7-ba5d58136ea0",
   "metadata": {},
   "outputs": [
    {
     "data": {
      "text/latex": [
       "$\\displaystyle \\begin{aligned} \\mathcal{L} &= \\left\\langle \\overline{\\phi},\\partial\\psi\\right\\rangle +\\frac{\\lambda_{1}}{2}\\left\\langle \\phi,\\phi\\right\\rangle +\\frac{\\lambda_{2}}{2}\\left\\langle \\psi,\\psi\\right\\rangle  \\\\ &= \\frac{\\lambda_{1} \\phi_{0}^{2}}{2} + \\frac{\\lambda_{1} \\phi_{1}^{2}}{2} + \\frac{\\lambda_{1} \\phi_{2}^{2}}{2} + \\frac{\\lambda_{1} \\phi_{3}^{2}}{2} - \\frac{\\lambda_{1} \\phi_{4}^{2}}{2} - \\frac{\\lambda_{1} \\phi_{5}^{2}}{2} - \\frac{\\lambda_{1} \\phi_{6}^{2}}{2} - \\frac{\\lambda_{1} \\phi_{7}^{2}}{2} + \\frac{\\lambda_{2} \\psi_{0}^{2}}{2} + \\frac{\\lambda_{2} \\psi_{1}^{2}}{2} + \\frac{\\lambda_{2} \\psi_{2}^{2}}{2} + \\frac{\\lambda_{2} \\psi_{3}^{2}}{2} - \\frac{\\lambda_{2} \\psi_{4}^{2}}{2} - \\frac{\\lambda_{2} \\psi_{5}^{2}}{2} - \\frac{\\lambda_{2} \\psi_{6}^{2}}{2} - \\frac{\\lambda_{2} \\psi_{7}^{2}}{2} + \\frac{\\phi_{0} \\partial_{0} \\psi_{0}}{2} - \\frac{\\phi_{0} \\partial_{1} \\psi_{1}}{2} - \\frac{\\phi_{0} \\partial_{2} \\psi_{2}}{2} - \\frac{\\phi_{0} \\partial_{3} \\psi_{3}}{2} + \\frac{\\phi_{0} \\partial_{4} \\psi_{4}}{2} + \\frac{\\phi_{0} \\partial_{5} \\psi_{5}}{2} + \\frac{\\phi_{0} \\partial_{6} \\psi_{6}}{2} + \\frac{\\phi_{0} \\partial_{7} \\psi_{7}}{2} - \\frac{\\phi_{1} \\partial_{0} \\psi_{1}}{2} - \\frac{\\phi_{1} \\partial_{1} \\psi_{0}}{2} - \\frac{\\phi_{1} \\partial_{2} \\psi_{3}}{2} + \\frac{\\phi_{1} \\partial_{3} \\psi_{2}}{2} + \\frac{\\phi_{1} \\partial_{4} \\psi_{5}}{2} - \\frac{\\phi_{1} \\partial_{5} \\psi_{4}}{2} - \\frac{\\phi_{1} \\partial_{6} \\psi_{7}}{2} + \\frac{\\phi_{1} \\partial_{7} \\psi_{6}}{2} - \\frac{\\phi_{2} \\partial_{0} \\psi_{2}}{2} + \\frac{\\phi_{2} \\partial_{1} \\psi_{3}}{2} - \\frac{\\phi_{2} \\partial_{2} \\psi_{0}}{2} - \\frac{\\phi_{2} \\partial_{3} \\psi_{1}}{2} + \\frac{\\phi_{2} \\partial_{4} \\psi_{6}}{2} + \\frac{\\phi_{2} \\partial_{5} \\psi_{7}}{2} - \\frac{\\phi_{2} \\partial_{6} \\psi_{4}}{2} - \\frac{\\phi_{2} \\partial_{7} \\psi_{5}}{2} - \\frac{\\phi_{3} \\partial_{0} \\psi_{3}}{2} - \\frac{\\phi_{3} \\partial_{1} \\psi_{2}}{2} + \\frac{\\phi_{3} \\partial_{2} \\psi_{1}}{2} - \\frac{\\phi_{3} \\partial_{3} \\psi_{0}}{2} + \\frac{\\phi_{3} \\partial_{4} \\psi_{7}}{2} - \\frac{\\phi_{3} \\partial_{5} \\psi_{6}}{2} + \\frac{\\phi_{3} \\partial_{6} \\psi_{5}}{2} - \\frac{\\phi_{3} \\partial_{7} \\psi_{4}}{2} + \\frac{\\phi_{4} \\partial_{0} \\psi_{4}}{2} - \\frac{\\phi_{4} \\partial_{1} \\psi_{5}}{2} - \\frac{\\phi_{4} \\partial_{2} \\psi_{6}}{2} - \\frac{\\phi_{4} \\partial_{3} \\psi_{7}}{2} + \\frac{\\phi_{4} \\partial_{4} \\psi_{0}}{2} + \\frac{\\phi_{4} \\partial_{5} \\psi_{1}}{2} + \\frac{\\phi_{4} \\partial_{6} \\psi_{2}}{2} + \\frac{\\phi_{4} \\partial_{7} \\psi_{3}}{2} + \\frac{\\phi_{5} \\partial_{0} \\psi_{5}}{2} + \\frac{\\phi_{5} \\partial_{1} \\psi_{4}}{2} - \\frac{\\phi_{5} \\partial_{2} \\psi_{7}}{2} + \\frac{\\phi_{5} \\partial_{3} \\psi_{6}}{2} - \\frac{\\phi_{5} \\partial_{4} \\psi_{1}}{2} + \\frac{\\phi_{5} \\partial_{5} \\psi_{0}}{2} - \\frac{\\phi_{5} \\partial_{6} \\psi_{3}}{2} + \\frac{\\phi_{5} \\partial_{7} \\psi_{2}}{2} + \\frac{\\phi_{6} \\partial_{0} \\psi_{6}}{2} + \\frac{\\phi_{6} \\partial_{1} \\psi_{7}}{2} + \\frac{\\phi_{6} \\partial_{2} \\psi_{4}}{2} - \\frac{\\phi_{6} \\partial_{3} \\psi_{5}}{2} - \\frac{\\phi_{6} \\partial_{4} \\psi_{2}}{2} + \\frac{\\phi_{6} \\partial_{5} \\psi_{3}}{2} + \\frac{\\phi_{6} \\partial_{6} \\psi_{0}}{2} - \\frac{\\phi_{6} \\partial_{7} \\psi_{1}}{2} + \\frac{\\phi_{7} \\partial_{0} \\psi_{7}}{2} - \\frac{\\phi_{7} \\partial_{1} \\psi_{6}}{2} + \\frac{\\phi_{7} \\partial_{2} \\psi_{5}}{2} + \\frac{\\phi_{7} \\partial_{3} \\psi_{4}}{2} - \\frac{\\phi_{7} \\partial_{4} \\psi_{3}}{2} - \\frac{\\phi_{7} \\partial_{5} \\psi_{2}}{2} + \\frac{\\phi_{7} \\partial_{6} \\psi_{1}}{2} + \\frac{\\phi_{7} \\partial_{7} \\psi_{0}}{2}\\end{aligned}$"
      ],
      "text/plain": [
       "<IPython.core.display.Math object>"
      ]
     },
     "metadata": {},
     "output_type": "display_data"
    }
   ],
   "source": [
    "Lagrangian = ϕ.conj().dot(dee*ψ) + (λ_1/2) * ϕ.dot(ϕ) + (λ_2/2) * ψ.dot(ψ)\n",
    "Lagrangian = Lagrangian.expand()\n",
    "\n",
    "dispmath( r'\\begin{aligned} \\mathcal{L} &= \\left\\langle \\overline{\\phi},\\partial\\psi\\right\\rangle +\\frac{\\lambda_{1}}{2}\\left\\langle \\phi,\\phi\\right\\rangle +\\frac{\\lambda_{2}}{2}\\left\\langle \\psi,\\psi\\right\\rangle  \\\\ &= ' + tex(Lagrangian) + r'\\end{aligned}')"
   ]
  },
  {
   "cell_type": "code",
   "execution_count": 5,
   "id": "a5ca0698-4e42-45a8-91e9-bddc33cddcbe",
   "metadata": {},
   "outputs": [
    {
     "data": {
      "text/latex": [
       "$\\displaystyle \\text{Equations of motion resulting from stationarizing the action:}$"
      ],
      "text/plain": [
       "<IPython.core.display.Math object>"
      ]
     },
     "metadata": {},
     "output_type": "display_data"
    },
    {
     "data": {
      "text/latex": [
       "$\\displaystyle \\frac{1}{2}\\left(2 \\lambda_{2} \\psi_{0} - \\partial_{0} \\phi_{0} + \\partial_{1} \\phi_{1} + \\partial_{2} \\phi_{2} + \\partial_{3} \\phi_{3} - \\partial_{4} \\phi_{4} - \\partial_{5} \\phi_{5} - \\partial_{6} \\phi_{6} - \\partial_{7} \\phi_{7}\\right) = 0$"
      ],
      "text/plain": [
       "<IPython.core.display.Math object>"
      ]
     },
     "metadata": {},
     "output_type": "display_data"
    },
    {
     "data": {
      "text/latex": [
       "$\\displaystyle \\frac{1}{2}\\left(2 \\lambda_{2} \\psi_{1} + \\partial_{0} \\phi_{1} + \\partial_{1} \\phi_{0} - \\partial_{2} \\phi_{3} + \\partial_{3} \\phi_{2} + \\partial_{4} \\phi_{5} - \\partial_{5} \\phi_{4} - \\partial_{6} \\phi_{7} + \\partial_{7} \\phi_{6}\\right) = 0$"
      ],
      "text/plain": [
       "<IPython.core.display.Math object>"
      ]
     },
     "metadata": {},
     "output_type": "display_data"
    },
    {
     "data": {
      "text/latex": [
       "$\\displaystyle \\frac{1}{2}\\left(2 \\lambda_{2} \\psi_{2} + \\partial_{0} \\phi_{2} + \\partial_{1} \\phi_{3} + \\partial_{2} \\phi_{0} - \\partial_{3} \\phi_{1} + \\partial_{4} \\phi_{6} + \\partial_{5} \\phi_{7} - \\partial_{6} \\phi_{4} - \\partial_{7} \\phi_{5}\\right) = 0$"
      ],
      "text/plain": [
       "<IPython.core.display.Math object>"
      ]
     },
     "metadata": {},
     "output_type": "display_data"
    },
    {
     "data": {
      "text/latex": [
       "$\\displaystyle \\frac{1}{2}\\left(2 \\lambda_{2} \\psi_{3} + \\partial_{0} \\phi_{3} - \\partial_{1} \\phi_{2} + \\partial_{2} \\phi_{1} + \\partial_{3} \\phi_{0} + \\partial_{4} \\phi_{7} - \\partial_{5} \\phi_{6} + \\partial_{6} \\phi_{5} - \\partial_{7} \\phi_{4}\\right) = 0$"
      ],
      "text/plain": [
       "<IPython.core.display.Math object>"
      ]
     },
     "metadata": {},
     "output_type": "display_data"
    },
    {
     "data": {
      "text/latex": [
       "$\\displaystyle \\frac{1}{2}\\left(- 2 \\lambda_{2} \\psi_{4} - \\partial_{0} \\phi_{4} - \\partial_{1} \\phi_{5} - \\partial_{2} \\phi_{6} - \\partial_{3} \\phi_{7} - \\partial_{4} \\phi_{0} + \\partial_{5} \\phi_{1} + \\partial_{6} \\phi_{2} + \\partial_{7} \\phi_{3}\\right) = 0$"
      ],
      "text/plain": [
       "<IPython.core.display.Math object>"
      ]
     },
     "metadata": {},
     "output_type": "display_data"
    },
    {
     "data": {
      "text/latex": [
       "$\\displaystyle \\frac{1}{2}\\left(- 2 \\lambda_{2} \\psi_{5} - \\partial_{0} \\phi_{5} + \\partial_{1} \\phi_{4} - \\partial_{2} \\phi_{7} + \\partial_{3} \\phi_{6} - \\partial_{4} \\phi_{1} - \\partial_{5} \\phi_{0} - \\partial_{6} \\phi_{3} + \\partial_{7} \\phi_{2}\\right) = 0$"
      ],
      "text/plain": [
       "<IPython.core.display.Math object>"
      ]
     },
     "metadata": {},
     "output_type": "display_data"
    },
    {
     "data": {
      "text/latex": [
       "$\\displaystyle \\frac{1}{2}\\left(- 2 \\lambda_{2} \\psi_{6} - \\partial_{0} \\phi_{6} + \\partial_{1} \\phi_{7} + \\partial_{2} \\phi_{4} - \\partial_{3} \\phi_{5} - \\partial_{4} \\phi_{2} + \\partial_{5} \\phi_{3} - \\partial_{6} \\phi_{0} - \\partial_{7} \\phi_{1}\\right) = 0$"
      ],
      "text/plain": [
       "<IPython.core.display.Math object>"
      ]
     },
     "metadata": {},
     "output_type": "display_data"
    },
    {
     "data": {
      "text/latex": [
       "$\\displaystyle \\frac{1}{2}\\left(- 2 \\lambda_{2} \\psi_{7} - \\partial_{0} \\phi_{7} - \\partial_{1} \\phi_{6} + \\partial_{2} \\phi_{5} + \\partial_{3} \\phi_{4} - \\partial_{4} \\phi_{3} - \\partial_{5} \\phi_{2} + \\partial_{6} \\phi_{1} - \\partial_{7} \\phi_{0}\\right) = 0$"
      ],
      "text/plain": [
       "<IPython.core.display.Math object>"
      ]
     },
     "metadata": {},
     "output_type": "display_data"
    },
    {
     "name": "stdout",
     "output_type": "stream",
     "text": [
      "\n"
     ]
    },
    {
     "data": {
      "text/latex": [
       "$\\displaystyle \\frac{1}{2}\\left(2 \\lambda_{1} \\phi_{0} + \\partial_{0} \\psi_{0} - \\partial_{1} \\psi_{1} - \\partial_{2} \\psi_{2} - \\partial_{3} \\psi_{3} + \\partial_{4} \\psi_{4} + \\partial_{5} \\psi_{5} + \\partial_{6} \\psi_{6} + \\partial_{7} \\psi_{7}\\right) = 0$"
      ],
      "text/plain": [
       "<IPython.core.display.Math object>"
      ]
     },
     "metadata": {},
     "output_type": "display_data"
    },
    {
     "data": {
      "text/latex": [
       "$\\displaystyle \\frac{1}{2}\\left(2 \\lambda_{1} \\phi_{1} - \\partial_{0} \\psi_{1} - \\partial_{1} \\psi_{0} - \\partial_{2} \\psi_{3} + \\partial_{3} \\psi_{2} + \\partial_{4} \\psi_{5} - \\partial_{5} \\psi_{4} - \\partial_{6} \\psi_{7} + \\partial_{7} \\psi_{6}\\right) = 0$"
      ],
      "text/plain": [
       "<IPython.core.display.Math object>"
      ]
     },
     "metadata": {},
     "output_type": "display_data"
    },
    {
     "data": {
      "text/latex": [
       "$\\displaystyle \\frac{1}{2}\\left(2 \\lambda_{1} \\phi_{2} - \\partial_{0} \\psi_{2} + \\partial_{1} \\psi_{3} - \\partial_{2} \\psi_{0} - \\partial_{3} \\psi_{1} + \\partial_{4} \\psi_{6} + \\partial_{5} \\psi_{7} - \\partial_{6} \\psi_{4} - \\partial_{7} \\psi_{5}\\right) = 0$"
      ],
      "text/plain": [
       "<IPython.core.display.Math object>"
      ]
     },
     "metadata": {},
     "output_type": "display_data"
    },
    {
     "data": {
      "text/latex": [
       "$\\displaystyle \\frac{1}{2}\\left(2 \\lambda_{1} \\phi_{3} - \\partial_{0} \\psi_{3} - \\partial_{1} \\psi_{2} + \\partial_{2} \\psi_{1} - \\partial_{3} \\psi_{0} + \\partial_{4} \\psi_{7} - \\partial_{5} \\psi_{6} + \\partial_{6} \\psi_{5} - \\partial_{7} \\psi_{4}\\right) = 0$"
      ],
      "text/plain": [
       "<IPython.core.display.Math object>"
      ]
     },
     "metadata": {},
     "output_type": "display_data"
    },
    {
     "data": {
      "text/latex": [
       "$\\displaystyle \\frac{1}{2}\\left(- 2 \\lambda_{1} \\phi_{4} + \\partial_{0} \\psi_{4} - \\partial_{1} \\psi_{5} - \\partial_{2} \\psi_{6} - \\partial_{3} \\psi_{7} + \\partial_{4} \\psi_{0} + \\partial_{5} \\psi_{1} + \\partial_{6} \\psi_{2} + \\partial_{7} \\psi_{3}\\right) = 0$"
      ],
      "text/plain": [
       "<IPython.core.display.Math object>"
      ]
     },
     "metadata": {},
     "output_type": "display_data"
    },
    {
     "data": {
      "text/latex": [
       "$\\displaystyle \\frac{1}{2}\\left(- 2 \\lambda_{1} \\phi_{5} + \\partial_{0} \\psi_{5} + \\partial_{1} \\psi_{4} - \\partial_{2} \\psi_{7} + \\partial_{3} \\psi_{6} - \\partial_{4} \\psi_{1} + \\partial_{5} \\psi_{0} - \\partial_{6} \\psi_{3} + \\partial_{7} \\psi_{2}\\right) = 0$"
      ],
      "text/plain": [
       "<IPython.core.display.Math object>"
      ]
     },
     "metadata": {},
     "output_type": "display_data"
    },
    {
     "data": {
      "text/latex": [
       "$\\displaystyle \\frac{1}{2}\\left(- 2 \\lambda_{1} \\phi_{6} + \\partial_{0} \\psi_{6} + \\partial_{1} \\psi_{7} + \\partial_{2} \\psi_{4} - \\partial_{3} \\psi_{5} - \\partial_{4} \\psi_{2} + \\partial_{5} \\psi_{3} + \\partial_{6} \\psi_{0} - \\partial_{7} \\psi_{1}\\right) = 0$"
      ],
      "text/plain": [
       "<IPython.core.display.Math object>"
      ]
     },
     "metadata": {},
     "output_type": "display_data"
    },
    {
     "data": {
      "text/latex": [
       "$\\displaystyle \\frac{1}{2}\\left(- 2 \\lambda_{1} \\phi_{7} + \\partial_{0} \\psi_{7} - \\partial_{1} \\psi_{6} + \\partial_{2} \\psi_{5} + \\partial_{3} \\psi_{4} - \\partial_{4} \\psi_{3} - \\partial_{5} \\psi_{2} + \\partial_{6} \\psi_{1} + \\partial_{7} \\psi_{0}\\right) = 0$"
      ],
      "text/plain": [
       "<IPython.core.display.Math object>"
      ]
     },
     "metadata": {},
     "output_type": "display_data"
    }
   ],
   "source": [
    "def Stationarize(Lagrangian):\n",
    "    L = Lagrangian.copy()\n",
    "    \n",
    "    # variation\n",
    "    for n in range(8):\n",
    "        L = L.subs(ϕ[n], ϕ[n] + ε * ξ[n])\n",
    "        L = L.subs(ψ[n], ψ[n] + ε * η[n])\n",
    "    L = L.expand()\n",
    "    L = L.collect(ε)\n",
    "    for arg in L.args:\n",
    "        if ε in arg.args:\n",
    "            L = syp.simplify(arg / ε)\n",
    "            break\n",
    "    \n",
    "    # boundary term\n",
    "    # display(L)\n",
    "    L_args = L.args\n",
    "    L = 0\n",
    "    for arg in L_args:\n",
    "        factors = list(arg.args)\n",
    "        latex = syp.latex( factors[-1] )\n",
    "        if (r'\\eta' in latex or r'\\xi' in latex) and r'\\partial' in syp.latex(arg):\n",
    "            L += - prod(swap_vars(factors, -1, -3))\n",
    "        elif (r'\\eta' in latex or r'\\xi' in latex) and (λ_1 in factors or λ_2 in factors):\n",
    "            L += prod(swap_vars(factors, -1, -2))\n",
    "        else:\n",
    "            L += arg\n",
    "    \n",
    "    # collect equations of motion\n",
    "    phi = 8 * [ 0 ]\n",
    "    psi = 8 * [ 0 ]\n",
    "    for arg in L.args:\n",
    "        for n in range(8):\n",
    "            if η[n] in arg.args:\n",
    "                phi[n] += (1 / η[n]) * arg\n",
    "            elif ξ[n] in arg.args:\n",
    "                psi[n] += (1 / ξ[n]) * arg\n",
    "    return phi, psi\n",
    "\n",
    "# principle of stationary action (psa)\n",
    "phi_eq_psa, psi_eq_psa = Stationarize(2*Lagrangian)\n",
    "for n in range(8):\n",
    "    phi_eq_psa[n] /= 2\n",
    "    psi_eq_psa[n] /= 2\n",
    "\n",
    "dispmath(r'\\text{Equations of motion resulting from stationarizing the action:}')\n",
    "\n",
    "for n in range(8):\n",
    "    dispmath( r'\\frac{1}{2}\\left(' + tex(2*phi_eq_psa[n]) + r'\\right) = 0')\n",
    "print()\n",
    "for n in range(8):\n",
    "    dispmath( r'\\frac{1}{2}\\left(' + tex(2*psi_eq_psa[n])  + r'\\right) = 0')"
   ]
  },
  {
   "cell_type": "code",
   "execution_count": 6,
   "id": "9115f4cd-6026-4d7a-bc32-300fdac52bda",
   "metadata": {},
   "outputs": [
    {
     "data": {
      "text/latex": [
       "$\\displaystyle \\text{Expected equations:}$"
      ],
      "text/plain": [
       "<IPython.core.display.Math object>"
      ]
     },
     "metadata": {},
     "output_type": "display_data"
    },
    {
     "data": {
      "text/latex": [
       "$\\displaystyle \\frac{1}{2}\\left(- 2 \\lambda_{2} \\psi_{0} + \\partial_{0} \\phi_{0} - \\partial_{1} \\phi_{1} - \\partial_{2} \\phi_{2} - \\partial_{3} \\phi_{3} + \\partial_{4} \\phi_{4} + \\partial_{5} \\phi_{5} + \\partial_{6} \\phi_{6} + \\partial_{7} \\phi_{7}\\right) = 0$"
      ],
      "text/plain": [
       "<IPython.core.display.Math object>"
      ]
     },
     "metadata": {},
     "output_type": "display_data"
    },
    {
     "data": {
      "text/latex": [
       "$\\displaystyle \\frac{1}{2}\\left(- 2 \\lambda_{2} \\psi_{1} - \\partial_{0} \\phi_{1} - \\partial_{1} \\phi_{0} + \\partial_{2} \\phi_{3} - \\partial_{3} \\phi_{2} - \\partial_{4} \\phi_{5} + \\partial_{5} \\phi_{4} + \\partial_{6} \\phi_{7} - \\partial_{7} \\phi_{6}\\right) = 0$"
      ],
      "text/plain": [
       "<IPython.core.display.Math object>"
      ]
     },
     "metadata": {},
     "output_type": "display_data"
    },
    {
     "data": {
      "text/latex": [
       "$\\displaystyle \\frac{1}{2}\\left(- 2 \\lambda_{2} \\psi_{2} - \\partial_{0} \\phi_{2} - \\partial_{1} \\phi_{3} - \\partial_{2} \\phi_{0} + \\partial_{3} \\phi_{1} - \\partial_{4} \\phi_{6} - \\partial_{5} \\phi_{7} + \\partial_{6} \\phi_{4} + \\partial_{7} \\phi_{5}\\right) = 0$"
      ],
      "text/plain": [
       "<IPython.core.display.Math object>"
      ]
     },
     "metadata": {},
     "output_type": "display_data"
    },
    {
     "data": {
      "text/latex": [
       "$\\displaystyle \\frac{1}{2}\\left(- 2 \\lambda_{2} \\psi_{3} - \\partial_{0} \\phi_{3} + \\partial_{1} \\phi_{2} - \\partial_{2} \\phi_{1} - \\partial_{3} \\phi_{0} - \\partial_{4} \\phi_{7} + \\partial_{5} \\phi_{6} - \\partial_{6} \\phi_{5} + \\partial_{7} \\phi_{4}\\right) = 0$"
      ],
      "text/plain": [
       "<IPython.core.display.Math object>"
      ]
     },
     "metadata": {},
     "output_type": "display_data"
    },
    {
     "data": {
      "text/latex": [
       "$\\displaystyle \\frac{1}{2}\\left(- 2 \\lambda_{2} \\psi_{4} - \\partial_{0} \\phi_{4} - \\partial_{1} \\phi_{5} - \\partial_{2} \\phi_{6} - \\partial_{3} \\phi_{7} - \\partial_{4} \\phi_{0} + \\partial_{5} \\phi_{1} + \\partial_{6} \\phi_{2} + \\partial_{7} \\phi_{3}\\right) = 0$"
      ],
      "text/plain": [
       "<IPython.core.display.Math object>"
      ]
     },
     "metadata": {},
     "output_type": "display_data"
    },
    {
     "data": {
      "text/latex": [
       "$\\displaystyle \\frac{1}{2}\\left(- 2 \\lambda_{2} \\psi_{5} - \\partial_{0} \\phi_{5} + \\partial_{1} \\phi_{4} - \\partial_{2} \\phi_{7} + \\partial_{3} \\phi_{6} - \\partial_{4} \\phi_{1} - \\partial_{5} \\phi_{0} - \\partial_{6} \\phi_{3} + \\partial_{7} \\phi_{2}\\right) = 0$"
      ],
      "text/plain": [
       "<IPython.core.display.Math object>"
      ]
     },
     "metadata": {},
     "output_type": "display_data"
    },
    {
     "data": {
      "text/latex": [
       "$\\displaystyle \\frac{1}{2}\\left(- 2 \\lambda_{2} \\psi_{6} - \\partial_{0} \\phi_{6} + \\partial_{1} \\phi_{7} + \\partial_{2} \\phi_{4} - \\partial_{3} \\phi_{5} - \\partial_{4} \\phi_{2} + \\partial_{5} \\phi_{3} - \\partial_{6} \\phi_{0} - \\partial_{7} \\phi_{1}\\right) = 0$"
      ],
      "text/plain": [
       "<IPython.core.display.Math object>"
      ]
     },
     "metadata": {},
     "output_type": "display_data"
    },
    {
     "data": {
      "text/latex": [
       "$\\displaystyle \\frac{1}{2}\\left(- 2 \\lambda_{2} \\psi_{7} - \\partial_{0} \\phi_{7} - \\partial_{1} \\phi_{6} + \\partial_{2} \\phi_{5} + \\partial_{3} \\phi_{4} - \\partial_{4} \\phi_{3} - \\partial_{5} \\phi_{2} + \\partial_{6} \\phi_{1} - \\partial_{7} \\phi_{0}\\right) = 0$"
      ],
      "text/plain": [
       "<IPython.core.display.Math object>"
      ]
     },
     "metadata": {},
     "output_type": "display_data"
    },
    {
     "name": "stdout",
     "output_type": "stream",
     "text": [
      "\n"
     ]
    },
    {
     "data": {
      "text/latex": [
       "$\\displaystyle \\frac{1}{2}\\left(2 \\lambda_{1} \\phi_{0} + \\partial_{0} \\psi_{0} - \\partial_{1} \\psi_{1} - \\partial_{2} \\psi_{2} - \\partial_{3} \\psi_{3} + \\partial_{4} \\psi_{4} + \\partial_{5} \\psi_{5} + \\partial_{6} \\psi_{6} + \\partial_{7} \\psi_{7}\\right) = 0$"
      ],
      "text/plain": [
       "<IPython.core.display.Math object>"
      ]
     },
     "metadata": {},
     "output_type": "display_data"
    },
    {
     "data": {
      "text/latex": [
       "$\\displaystyle \\frac{1}{2}\\left(- 2 \\lambda_{1} \\phi_{1} + \\partial_{0} \\psi_{1} + \\partial_{1} \\psi_{0} + \\partial_{2} \\psi_{3} - \\partial_{3} \\psi_{2} - \\partial_{4} \\psi_{5} + \\partial_{5} \\psi_{4} + \\partial_{6} \\psi_{7} - \\partial_{7} \\psi_{6}\\right) = 0$"
      ],
      "text/plain": [
       "<IPython.core.display.Math object>"
      ]
     },
     "metadata": {},
     "output_type": "display_data"
    },
    {
     "data": {
      "text/latex": [
       "$\\displaystyle \\frac{1}{2}\\left(- 2 \\lambda_{1} \\phi_{2} + \\partial_{0} \\psi_{2} - \\partial_{1} \\psi_{3} + \\partial_{2} \\psi_{0} + \\partial_{3} \\psi_{1} - \\partial_{4} \\psi_{6} - \\partial_{5} \\psi_{7} + \\partial_{6} \\psi_{4} + \\partial_{7} \\psi_{5}\\right) = 0$"
      ],
      "text/plain": [
       "<IPython.core.display.Math object>"
      ]
     },
     "metadata": {},
     "output_type": "display_data"
    },
    {
     "data": {
      "text/latex": [
       "$\\displaystyle \\frac{1}{2}\\left(- 2 \\lambda_{1} \\phi_{3} + \\partial_{0} \\psi_{3} + \\partial_{1} \\psi_{2} - \\partial_{2} \\psi_{1} + \\partial_{3} \\psi_{0} - \\partial_{4} \\psi_{7} + \\partial_{5} \\psi_{6} - \\partial_{6} \\psi_{5} + \\partial_{7} \\psi_{4}\\right) = 0$"
      ],
      "text/plain": [
       "<IPython.core.display.Math object>"
      ]
     },
     "metadata": {},
     "output_type": "display_data"
    },
    {
     "data": {
      "text/latex": [
       "$\\displaystyle \\frac{1}{2}\\left(- 2 \\lambda_{1} \\phi_{4} + \\partial_{0} \\psi_{4} - \\partial_{1} \\psi_{5} - \\partial_{2} \\psi_{6} - \\partial_{3} \\psi_{7} + \\partial_{4} \\psi_{0} + \\partial_{5} \\psi_{1} + \\partial_{6} \\psi_{2} + \\partial_{7} \\psi_{3}\\right) = 0$"
      ],
      "text/plain": [
       "<IPython.core.display.Math object>"
      ]
     },
     "metadata": {},
     "output_type": "display_data"
    },
    {
     "data": {
      "text/latex": [
       "$\\displaystyle \\frac{1}{2}\\left(- 2 \\lambda_{1} \\phi_{5} + \\partial_{0} \\psi_{5} + \\partial_{1} \\psi_{4} - \\partial_{2} \\psi_{7} + \\partial_{3} \\psi_{6} - \\partial_{4} \\psi_{1} + \\partial_{5} \\psi_{0} - \\partial_{6} \\psi_{3} + \\partial_{7} \\psi_{2}\\right) = 0$"
      ],
      "text/plain": [
       "<IPython.core.display.Math object>"
      ]
     },
     "metadata": {},
     "output_type": "display_data"
    },
    {
     "data": {
      "text/latex": [
       "$\\displaystyle \\frac{1}{2}\\left(- 2 \\lambda_{1} \\phi_{6} + \\partial_{0} \\psi_{6} + \\partial_{1} \\psi_{7} + \\partial_{2} \\psi_{4} - \\partial_{3} \\psi_{5} - \\partial_{4} \\psi_{2} + \\partial_{5} \\psi_{3} + \\partial_{6} \\psi_{0} - \\partial_{7} \\psi_{1}\\right) = 0$"
      ],
      "text/plain": [
       "<IPython.core.display.Math object>"
      ]
     },
     "metadata": {},
     "output_type": "display_data"
    },
    {
     "data": {
      "text/latex": [
       "$\\displaystyle \\frac{1}{2}\\left(- 2 \\lambda_{1} \\phi_{7} + \\partial_{0} \\psi_{7} - \\partial_{1} \\psi_{6} + \\partial_{2} \\psi_{5} + \\partial_{3} \\psi_{4} - \\partial_{4} \\psi_{3} - \\partial_{5} \\psi_{2} + \\partial_{6} \\psi_{1} + \\partial_{7} \\psi_{0}\\right) = 0$"
      ],
      "text/plain": [
       "<IPython.core.display.Math object>"
      ]
     },
     "metadata": {},
     "output_type": "display_data"
    }
   ],
   "source": [
    "phi_eq = (\n",
    "    dee.conj()*ϕ.conj() - λ_2*ψ\n",
    ").x\n",
    "psi_eq = (\n",
    "    dee*ψ + λ_1*ϕ.conj()\n",
    ").x\n",
    "\n",
    "dispmath(r'\\text{Expected equations:}')\n",
    "\n",
    "for n in range(8):\n",
    "    dispmath( r'\\frac{1}{2}\\left(' + tex(2*phi_eq[n]) + r'\\right) = 0')\n",
    "print()\n",
    "for n in range(8):\n",
    "    dispmath( r'\\frac{1}{2}\\left(' + tex(2*psi_eq[n])  + r'\\right) = 0')\n",
    "\n",
    "# for n in range(8):\n",
    "#     dispmath( tex(phi_eq[n]) + r' = 0')\n",
    "# print()\n",
    "# for n in range(8):\n",
    "#     dispmath( tex(psi_eq[n])  + r' = 0')"
   ]
  },
  {
   "cell_type": "code",
   "execution_count": 7,
   "id": "e3902743-ac01-433a-af32-55a15fde0377",
   "metadata": {},
   "outputs": [
    {
     "name": "stdout",
     "output_type": "stream",
     "text": [
      "[(0, 0, -1), (1, 1, -1), (2, 2, -1), (3, 3, -1), (4, 4, 1), (5, 5, 1), (6, 6, 1), (7, 7, 1)]\n",
      "8\n",
      "\n",
      "[(0, 0, 1), (1, 1, -1), (2, 2, -1), (3, 3, -1), (4, 4, 1), (5, 5, 1), (6, 6, 1), (7, 7, 1)]\n",
      "8\n"
     ]
    }
   ],
   "source": [
    "def compare(vec_1, vec_2):\n",
    "    output = []\n",
    "    for m, comp_1 in enumerate(vec_1):\n",
    "        for n, comp_2 in enumerate(vec_2):\n",
    "            if syp.simplify(comp_1 - comp_2) == 0:\n",
    "                output.append((m, n, 1))\n",
    "                break\n",
    "            if syp.simplify(comp_1 + comp_2) == 0:\n",
    "                output.append((m, n, -1))\n",
    "                break\n",
    "    return output\n",
    "\n",
    "phi_eq_comparison = compare(phi_eq, phi_eq_psa)\n",
    "print(phi_eq_comparison)\n",
    "print(len(phi_eq_comparison))\n",
    "phi_eq_truthval = r'is' if len(phi_eq_comparison) == 8 else r'is not'\n",
    "\n",
    "print()\n",
    "\n",
    "psi_eq_comparison = compare(psi_eq, psi_eq_psa)\n",
    "print(psi_eq_comparison)\n",
    "print(len(psi_eq_comparison))\n",
    "psi_eq_truthval = r'is' if len(psi_eq_comparison) == 8 else r'is not'"
   ]
  },
  {
   "cell_type": "code",
   "execution_count": 8,
   "id": "43d81643-34d7-41b9-9d7d-5c0f0c7eff6e",
   "metadata": {},
   "outputs": [
    {
     "data": {
      "text/latex": [
       "$\\displaystyle \\text{Equation of motion for } \\phi \\text{ is:}$"
      ],
      "text/plain": [
       "<IPython.core.display.Math object>"
      ]
     },
     "metadata": {},
     "output_type": "display_data"
    },
    {
     "data": {
      "text/latex": [
       "$\\displaystyle \\overrightarrow{\\overline{\\partial}}\\thinspace\\overline{\\phi}=\\lambda_{2}\\psi$"
      ],
      "text/plain": [
       "<IPython.core.display.Math object>"
      ]
     },
     "metadata": {},
     "output_type": "display_data"
    },
    {
     "data": {
      "text/latex": [
       "$\\displaystyle \\text{Equation of motion for } \\psi \\text{ is:}$"
      ],
      "text/plain": [
       "<IPython.core.display.Math object>"
      ]
     },
     "metadata": {},
     "output_type": "display_data"
    },
    {
     "data": {
      "text/latex": [
       "$\\displaystyle \\overrightarrow{\\partial}\\psi=-\\lambda_{1}\\overline{\\phi}$"
      ],
      "text/plain": [
       "<IPython.core.display.Math object>"
      ]
     },
     "metadata": {},
     "output_type": "display_data"
    }
   ],
   "source": [
    "dispmath(r'\\text{Equation of motion for } \\phi \\text{ ' + phi_eq_truthval + ':}')\n",
    "dispmath(r'\\overrightarrow{\\overline{\\partial}}\\thinspace\\overline{\\phi}=\\lambda_{2}\\psi')\n",
    "\n",
    "dispmath(r'\\text{Equation of motion for } \\psi \\text{ ' + psi_eq_truthval + ':}')\n",
    "dispmath(r'\\overrightarrow{\\partial}\\psi=-\\lambda_{1}\\overline{\\phi}')"
   ]
  }
 ],
 "metadata": {
  "kernelspec": {
   "display_name": "Python 3 (ipykernel)",
   "language": "python",
   "name": "python3"
  },
  "language_info": {
   "codemirror_mode": {
    "name": "ipython",
    "version": 3
   },
   "file_extension": ".py",
   "mimetype": "text/x-python",
   "name": "python",
   "nbconvert_exporter": "python",
   "pygments_lexer": "ipython3",
   "version": "3.11.3"
  }
 },
 "nbformat": 4,
 "nbformat_minor": 5
}
